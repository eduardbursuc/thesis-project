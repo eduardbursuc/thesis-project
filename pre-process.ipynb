{
 "cells": [
  {
   "cell_type": "markdown",
   "id": "ad5141aa-41d1-48e4-bcba-7b9921f87bd4",
   "metadata": {},
   "source": [
    "# Data Pre Processing"
   ]
  },
  {
   "cell_type": "code",
   "execution_count": 1,
   "id": "eb80a2f8-370d-4926-8172-8f899f5ea366",
   "metadata": {},
   "outputs": [],
   "source": [
    "#  Libraries\n",
    "import pandas as pd\n",
    "import matplotlib.pyplot as plt\n",
    "import re"
   ]
  },
  {
   "cell_type": "markdown",
   "id": "ffe796f0-a1ec-4f09-b5ac-eb3a7a7833df",
   "metadata": {},
   "source": [
    "First, we check the three datasets"
   ]
  },
  {
   "cell_type": "code",
   "execution_count": 2,
   "id": "9cee12b0-29e5-4746-ac1e-1bd287bf6504",
   "metadata": {},
   "outputs": [
    {
     "data": {
      "text/html": [
       "<div>\n",
       "<style scoped>\n",
       "    .dataframe tbody tr th:only-of-type {\n",
       "        vertical-align: middle;\n",
       "    }\n",
       "\n",
       "    .dataframe tbody tr th {\n",
       "        vertical-align: top;\n",
       "    }\n",
       "\n",
       "    .dataframe thead th {\n",
       "        text-align: right;\n",
       "    }\n",
       "</style>\n",
       "<table border=\"1\" class=\"dataframe\">\n",
       "  <thead>\n",
       "    <tr style=\"text-align: right;\">\n",
       "      <th></th>\n",
       "      <th>Column1</th>\n",
       "      <th>Column2</th>\n",
       "    </tr>\n",
       "  </thead>\n",
       "  <tbody>\n",
       "    <tr>\n",
       "      <th>0</th>\n",
       "      <td>legitimate</td>\n",
       "      <td>https://oregonstateparks.org/index.cfm?do=geti...</td>\n",
       "    </tr>\n",
       "    <tr>\n",
       "      <th>1</th>\n",
       "      <td>phishing</td>\n",
       "      <td>http://business.hsbc.com.camaract.mobi/system_...</td>\n",
       "    </tr>\n",
       "    <tr>\n",
       "      <th>2</th>\n",
       "      <td>phishing</td>\n",
       "      <td>http://facebook.com-source-page.com/help/conta...</td>\n",
       "    </tr>\n",
       "    <tr>\n",
       "      <th>3</th>\n",
       "      <td>legitimate</td>\n",
       "      <td>http://michaelnielsen.org/blog/lecture-course-...</td>\n",
       "    </tr>\n",
       "    <tr>\n",
       "      <th>4</th>\n",
       "      <td>phishing</td>\n",
       "      <td>http://messagerie-17fr.com/fr/91da56ae94f5f4ff...</td>\n",
       "    </tr>\n",
       "    <tr>\n",
       "      <th>...</th>\n",
       "      <td>...</td>\n",
       "      <td>...</td>\n",
       "    </tr>\n",
       "    <tr>\n",
       "      <th>364194</th>\n",
       "      <td>phishing</td>\n",
       "      <td>http://www.53.com.bankingportal.id705063611986...</td>\n",
       "    </tr>\n",
       "    <tr>\n",
       "      <th>364195</th>\n",
       "      <td>legitimate</td>\n",
       "      <td>https://www.comic-con.org/file/012cci2015ryall...</td>\n",
       "    </tr>\n",
       "    <tr>\n",
       "      <th>364196</th>\n",
       "      <td>legitimate</td>\n",
       "      <td>https://cmha.ca/category/blog?post_type=blogs</td>\n",
       "    </tr>\n",
       "    <tr>\n",
       "      <th>364197</th>\n",
       "      <td>phishing</td>\n",
       "      <td>http://www.madanegoce.com/commerce/www.amazon....</td>\n",
       "    </tr>\n",
       "    <tr>\n",
       "      <th>364198</th>\n",
       "      <td>phishing</td>\n",
       "      <td>http://jeffreymunns.net/pex/index.php</td>\n",
       "    </tr>\n",
       "  </tbody>\n",
       "</table>\n",
       "<p>364199 rows × 2 columns</p>\n",
       "</div>"
      ],
      "text/plain": [
       "           Column1                                            Column2\n",
       "0       legitimate  https://oregonstateparks.org/index.cfm?do=geti...\n",
       "1         phishing  http://business.hsbc.com.camaract.mobi/system_...\n",
       "2         phishing  http://facebook.com-source-page.com/help/conta...\n",
       "3       legitimate  http://michaelnielsen.org/blog/lecture-course-...\n",
       "4         phishing  http://messagerie-17fr.com/fr/91da56ae94f5f4ff...\n",
       "...            ...                                                ...\n",
       "364194    phishing  http://www.53.com.bankingportal.id705063611986...\n",
       "364195  legitimate  https://www.comic-con.org/file/012cci2015ryall...\n",
       "364196  legitimate      https://cmha.ca/category/blog?post_type=blogs\n",
       "364197    phishing  http://www.madanegoce.com/commerce/www.amazon....\n",
       "364198    phishing              http://jeffreymunns.net/pex/index.php\n",
       "\n",
       "[364199 rows x 2 columns]"
      ]
     },
     "execution_count": 2,
     "metadata": {},
     "output_type": "execute_result"
    }
   ],
   "source": [
    "train = pd.read_csv('train.csv')\n",
    "train"
   ]
  },
  {
   "cell_type": "code",
   "execution_count": 3,
   "id": "8e482274-261b-42d6-b7cc-492af119bf4e",
   "metadata": {},
   "outputs": [
    {
     "data": {
      "text/html": [
       "<div>\n",
       "<style scoped>\n",
       "    .dataframe tbody tr th:only-of-type {\n",
       "        vertical-align: middle;\n",
       "    }\n",
       "\n",
       "    .dataframe tbody tr th {\n",
       "        vertical-align: top;\n",
       "    }\n",
       "\n",
       "    .dataframe thead th {\n",
       "        text-align: right;\n",
       "    }\n",
       "</style>\n",
       "<table border=\"1\" class=\"dataframe\">\n",
       "  <thead>\n",
       "    <tr style=\"text-align: right;\">\n",
       "      <th></th>\n",
       "      <th>phishing</th>\n",
       "      <th>http://www.bartekbitner.pl/libraries/fof/-/din7</th>\n",
       "    </tr>\n",
       "  </thead>\n",
       "  <tbody>\n",
       "    <tr>\n",
       "      <th>0</th>\n",
       "      <td>phishing</td>\n",
       "      <td>http://www.isalechina.com/_db_backups/SecureDo...</td>\n",
       "    </tr>\n",
       "    <tr>\n",
       "      <th>1</th>\n",
       "      <td>legitimate</td>\n",
       "      <td>https://eheadspace.org.au/headspace-centres/mu...</td>\n",
       "    </tr>\n",
       "    <tr>\n",
       "      <th>2</th>\n",
       "      <td>phishing</td>\n",
       "      <td>http://www.idolhairsalon.com/google/free/free2...</td>\n",
       "    </tr>\n",
       "    <tr>\n",
       "      <th>3</th>\n",
       "      <td>legitimate</td>\n",
       "      <td>https://hedgebrook.org/six-questions-for-hanna...</td>\n",
       "    </tr>\n",
       "    <tr>\n",
       "      <th>4</th>\n",
       "      <td>phishing</td>\n",
       "      <td>http://stream.fnl.de/images/slo/cache/icon/mat...</td>\n",
       "    </tr>\n",
       "    <tr>\n",
       "      <th>...</th>\n",
       "      <td>...</td>\n",
       "      <td>...</td>\n",
       "    </tr>\n",
       "    <tr>\n",
       "      <th>104571</th>\n",
       "      <td>phishing</td>\n",
       "      <td>http://www.ecofrioindustrial.cl/config/googled...</td>\n",
       "    </tr>\n",
       "    <tr>\n",
       "      <th>104572</th>\n",
       "      <td>phishing</td>\n",
       "      <td>http://www.53.com.wps0177m.zarit.tk/confirm/cb...</td>\n",
       "    </tr>\n",
       "    <tr>\n",
       "      <th>104573</th>\n",
       "      <td>legitimate</td>\n",
       "      <td>https://www.somethingsimilar.com/2013/12/09/a-...</td>\n",
       "    </tr>\n",
       "    <tr>\n",
       "      <th>104574</th>\n",
       "      <td>phishing</td>\n",
       "      <td>http://tinyurl.com/l8v5dxu</td>\n",
       "    </tr>\n",
       "    <tr>\n",
       "      <th>104575</th>\n",
       "      <td>phishing</td>\n",
       "      <td>http://162.144.71.74/serv/e402b4beddb6aba50327...</td>\n",
       "    </tr>\n",
       "  </tbody>\n",
       "</table>\n",
       "<p>104576 rows × 2 columns</p>\n",
       "</div>"
      ],
      "text/plain": [
       "          phishing    http://www.bartekbitner.pl/libraries/fof/-/din7\n",
       "0         phishing  http://www.isalechina.com/_db_backups/SecureDo...\n",
       "1       legitimate  https://eheadspace.org.au/headspace-centres/mu...\n",
       "2         phishing  http://www.idolhairsalon.com/google/free/free2...\n",
       "3       legitimate  https://hedgebrook.org/six-questions-for-hanna...\n",
       "4         phishing  http://stream.fnl.de/images/slo/cache/icon/mat...\n",
       "...            ...                                                ...\n",
       "104571    phishing  http://www.ecofrioindustrial.cl/config/googled...\n",
       "104572    phishing  http://www.53.com.wps0177m.zarit.tk/confirm/cb...\n",
       "104573  legitimate  https://www.somethingsimilar.com/2013/12/09/a-...\n",
       "104574    phishing                         http://tinyurl.com/l8v5dxu\n",
       "104575    phishing  http://162.144.71.74/serv/e402b4beddb6aba50327...\n",
       "\n",
       "[104576 rows x 2 columns]"
      ]
     },
     "execution_count": 3,
     "metadata": {},
     "output_type": "execute_result"
    }
   ],
   "source": [
    "valid = pd.read_csv('validation.csv')\n",
    "valid"
   ]
  },
  {
   "cell_type": "markdown",
   "id": "70804460-46ca-4925-99ea-06935e72b7d3",
   "metadata": {},
   "source": [
    "Valid dataframe has no labels, needs to be fixed\n",
    "We can do this by renaming the columns as column1 and column2 and just removing the entry"
   ]
  },
  {
   "cell_type": "code",
   "execution_count": 4,
   "id": "c4370d43-a5d8-4478-9b7b-d519b965b19e",
   "metadata": {},
   "outputs": [
    {
     "data": {
      "text/html": [
       "<div>\n",
       "<style scoped>\n",
       "    .dataframe tbody tr th:only-of-type {\n",
       "        vertical-align: middle;\n",
       "    }\n",
       "\n",
       "    .dataframe tbody tr th {\n",
       "        vertical-align: top;\n",
       "    }\n",
       "\n",
       "    .dataframe thead th {\n",
       "        text-align: right;\n",
       "    }\n",
       "</style>\n",
       "<table border=\"1\" class=\"dataframe\">\n",
       "  <thead>\n",
       "    <tr style=\"text-align: right;\">\n",
       "      <th></th>\n",
       "      <th>Column1</th>\n",
       "      <th>Column2</th>\n",
       "    </tr>\n",
       "  </thead>\n",
       "  <tbody>\n",
       "    <tr>\n",
       "      <th>0</th>\n",
       "      <td>phishing</td>\n",
       "      <td>http://www.isalechina.com/_db_backups/SecureDo...</td>\n",
       "    </tr>\n",
       "    <tr>\n",
       "      <th>1</th>\n",
       "      <td>legitimate</td>\n",
       "      <td>https://eheadspace.org.au/headspace-centres/mu...</td>\n",
       "    </tr>\n",
       "    <tr>\n",
       "      <th>2</th>\n",
       "      <td>phishing</td>\n",
       "      <td>http://www.idolhairsalon.com/google/free/free2...</td>\n",
       "    </tr>\n",
       "    <tr>\n",
       "      <th>3</th>\n",
       "      <td>legitimate</td>\n",
       "      <td>https://hedgebrook.org/six-questions-for-hanna...</td>\n",
       "    </tr>\n",
       "    <tr>\n",
       "      <th>4</th>\n",
       "      <td>phishing</td>\n",
       "      <td>http://stream.fnl.de/images/slo/cache/icon/mat...</td>\n",
       "    </tr>\n",
       "    <tr>\n",
       "      <th>...</th>\n",
       "      <td>...</td>\n",
       "      <td>...</td>\n",
       "    </tr>\n",
       "    <tr>\n",
       "      <th>104571</th>\n",
       "      <td>phishing</td>\n",
       "      <td>http://www.ecofrioindustrial.cl/config/googled...</td>\n",
       "    </tr>\n",
       "    <tr>\n",
       "      <th>104572</th>\n",
       "      <td>phishing</td>\n",
       "      <td>http://www.53.com.wps0177m.zarit.tk/confirm/cb...</td>\n",
       "    </tr>\n",
       "    <tr>\n",
       "      <th>104573</th>\n",
       "      <td>legitimate</td>\n",
       "      <td>https://www.somethingsimilar.com/2013/12/09/a-...</td>\n",
       "    </tr>\n",
       "    <tr>\n",
       "      <th>104574</th>\n",
       "      <td>phishing</td>\n",
       "      <td>http://tinyurl.com/l8v5dxu</td>\n",
       "    </tr>\n",
       "    <tr>\n",
       "      <th>104575</th>\n",
       "      <td>phishing</td>\n",
       "      <td>http://162.144.71.74/serv/e402b4beddb6aba50327...</td>\n",
       "    </tr>\n",
       "  </tbody>\n",
       "</table>\n",
       "<p>104576 rows × 2 columns</p>\n",
       "</div>"
      ],
      "text/plain": [
       "           Column1                                            Column2\n",
       "0         phishing  http://www.isalechina.com/_db_backups/SecureDo...\n",
       "1       legitimate  https://eheadspace.org.au/headspace-centres/mu...\n",
       "2         phishing  http://www.idolhairsalon.com/google/free/free2...\n",
       "3       legitimate  https://hedgebrook.org/six-questions-for-hanna...\n",
       "4         phishing  http://stream.fnl.de/images/slo/cache/icon/mat...\n",
       "...            ...                                                ...\n",
       "104571    phishing  http://www.ecofrioindustrial.cl/config/googled...\n",
       "104572    phishing  http://www.53.com.wps0177m.zarit.tk/confirm/cb...\n",
       "104573  legitimate  https://www.somethingsimilar.com/2013/12/09/a-...\n",
       "104574    phishing                         http://tinyurl.com/l8v5dxu\n",
       "104575    phishing  http://162.144.71.74/serv/e402b4beddb6aba50327...\n",
       "\n",
       "[104576 rows x 2 columns]"
      ]
     },
     "execution_count": 4,
     "metadata": {},
     "output_type": "execute_result"
    }
   ],
   "source": [
    "valid.columns = ['Column1', 'Column2']\n",
    "valid"
   ]
  },
  {
   "cell_type": "code",
   "execution_count": 5,
   "id": "c2438fce-923c-4da8-92ae-d29b0d88a126",
   "metadata": {},
   "outputs": [
    {
     "data": {
      "text/html": [
       "<div>\n",
       "<style scoped>\n",
       "    .dataframe tbody tr th:only-of-type {\n",
       "        vertical-align: middle;\n",
       "    }\n",
       "\n",
       "    .dataframe tbody tr th {\n",
       "        vertical-align: top;\n",
       "    }\n",
       "\n",
       "    .dataframe thead th {\n",
       "        text-align: right;\n",
       "    }\n",
       "</style>\n",
       "<table border=\"1\" class=\"dataframe\">\n",
       "  <thead>\n",
       "    <tr style=\"text-align: right;\">\n",
       "      <th></th>\n",
       "      <th>Column1</th>\n",
       "      <th>Column2</th>\n",
       "    </tr>\n",
       "  </thead>\n",
       "  <tbody>\n",
       "    <tr>\n",
       "      <th>0</th>\n",
       "      <td>phishing</td>\n",
       "      <td>http://www.bartekbitner.pl/libraries/fof/-/din7</td>\n",
       "    </tr>\n",
       "    <tr>\n",
       "      <th>1</th>\n",
       "      <td>phishing</td>\n",
       "      <td>http://www.isalechina.com/_db_backups/SecureDo...</td>\n",
       "    </tr>\n",
       "    <tr>\n",
       "      <th>2</th>\n",
       "      <td>legitimate</td>\n",
       "      <td>https://eheadspace.org.au/headspace-centres/mu...</td>\n",
       "    </tr>\n",
       "    <tr>\n",
       "      <th>3</th>\n",
       "      <td>phishing</td>\n",
       "      <td>http://www.idolhairsalon.com/google/free/free2...</td>\n",
       "    </tr>\n",
       "    <tr>\n",
       "      <th>4</th>\n",
       "      <td>legitimate</td>\n",
       "      <td>https://hedgebrook.org/six-questions-for-hanna...</td>\n",
       "    </tr>\n",
       "    <tr>\n",
       "      <th>...</th>\n",
       "      <td>...</td>\n",
       "      <td>...</td>\n",
       "    </tr>\n",
       "    <tr>\n",
       "      <th>51505</th>\n",
       "      <td>phishing</td>\n",
       "      <td>http://www.promodar.ru/~paypalsu/www.paypal.co...</td>\n",
       "    </tr>\n",
       "    <tr>\n",
       "      <th>51506</th>\n",
       "      <td>legitimate</td>\n",
       "      <td>https://accuity.com/resources/5-cs-infographic/</td>\n",
       "    </tr>\n",
       "    <tr>\n",
       "      <th>51507</th>\n",
       "      <td>legitimate</td>\n",
       "      <td>https://www.elasticpath.com/resources/get-elas...</td>\n",
       "    </tr>\n",
       "    <tr>\n",
       "      <th>51508</th>\n",
       "      <td>legitimate</td>\n",
       "      <td>http://www.allopass.com/merchant/advert?from=s...</td>\n",
       "    </tr>\n",
       "    <tr>\n",
       "      <th>51509</th>\n",
       "      <td>legitimate</td>\n",
       "      <td>https://www.bvdw.org/presse/news/article/bvdw-...</td>\n",
       "    </tr>\n",
       "  </tbody>\n",
       "</table>\n",
       "<p>51510 rows × 2 columns</p>\n",
       "</div>"
      ],
      "text/plain": [
       "          Column1                                            Column2\n",
       "0        phishing    http://www.bartekbitner.pl/libraries/fof/-/din7\n",
       "1        phishing  http://www.isalechina.com/_db_backups/SecureDo...\n",
       "2      legitimate  https://eheadspace.org.au/headspace-centres/mu...\n",
       "3        phishing  http://www.idolhairsalon.com/google/free/free2...\n",
       "4      legitimate  https://hedgebrook.org/six-questions-for-hanna...\n",
       "...           ...                                                ...\n",
       "51505    phishing  http://www.promodar.ru/~paypalsu/www.paypal.co...\n",
       "51506  legitimate    https://accuity.com/resources/5-cs-infographic/\n",
       "51507  legitimate  https://www.elasticpath.com/resources/get-elas...\n",
       "51508  legitimate  http://www.allopass.com/merchant/advert?from=s...\n",
       "51509  legitimate  https://www.bvdw.org/presse/news/article/bvdw-...\n",
       "\n",
       "[51510 rows x 2 columns]"
      ]
     },
     "execution_count": 5,
     "metadata": {},
     "output_type": "execute_result"
    }
   ],
   "source": [
    "test = pd.read_csv('test.csv')\n",
    "test"
   ]
  },
  {
   "cell_type": "markdown",
   "id": "95f83a5d-f787-4868-9ce3-574b0d12cf35",
   "metadata": {},
   "source": [
    "Since I want to split the data myself, we will merge the dataframe using the concat function"
   ]
  },
  {
   "cell_type": "code",
   "execution_count": 6,
   "id": "6d808b89-91f2-47f6-8355-41d20ea2aa52",
   "metadata": {},
   "outputs": [
    {
     "data": {
      "text/html": [
       "<div>\n",
       "<style scoped>\n",
       "    .dataframe tbody tr th:only-of-type {\n",
       "        vertical-align: middle;\n",
       "    }\n",
       "\n",
       "    .dataframe tbody tr th {\n",
       "        vertical-align: top;\n",
       "    }\n",
       "\n",
       "    .dataframe thead th {\n",
       "        text-align: right;\n",
       "    }\n",
       "</style>\n",
       "<table border=\"1\" class=\"dataframe\">\n",
       "  <thead>\n",
       "    <tr style=\"text-align: right;\">\n",
       "      <th></th>\n",
       "      <th>Column1</th>\n",
       "      <th>Column2</th>\n",
       "    </tr>\n",
       "  </thead>\n",
       "  <tbody>\n",
       "    <tr>\n",
       "      <th>0</th>\n",
       "      <td>legitimate</td>\n",
       "      <td>https://oregonstateparks.org/index.cfm?do=geti...</td>\n",
       "    </tr>\n",
       "    <tr>\n",
       "      <th>1</th>\n",
       "      <td>phishing</td>\n",
       "      <td>http://business.hsbc.com.camaract.mobi/system_...</td>\n",
       "    </tr>\n",
       "    <tr>\n",
       "      <th>2</th>\n",
       "      <td>phishing</td>\n",
       "      <td>http://facebook.com-source-page.com/help/conta...</td>\n",
       "    </tr>\n",
       "    <tr>\n",
       "      <th>3</th>\n",
       "      <td>legitimate</td>\n",
       "      <td>http://michaelnielsen.org/blog/lecture-course-...</td>\n",
       "    </tr>\n",
       "    <tr>\n",
       "      <th>4</th>\n",
       "      <td>phishing</td>\n",
       "      <td>http://messagerie-17fr.com/fr/91da56ae94f5f4ff...</td>\n",
       "    </tr>\n",
       "    <tr>\n",
       "      <th>...</th>\n",
       "      <td>...</td>\n",
       "      <td>...</td>\n",
       "    </tr>\n",
       "    <tr>\n",
       "      <th>520280</th>\n",
       "      <td>phishing</td>\n",
       "      <td>http://www.promodar.ru/~paypalsu/www.paypal.co...</td>\n",
       "    </tr>\n",
       "    <tr>\n",
       "      <th>520281</th>\n",
       "      <td>legitimate</td>\n",
       "      <td>https://accuity.com/resources/5-cs-infographic/</td>\n",
       "    </tr>\n",
       "    <tr>\n",
       "      <th>520282</th>\n",
       "      <td>legitimate</td>\n",
       "      <td>https://www.elasticpath.com/resources/get-elas...</td>\n",
       "    </tr>\n",
       "    <tr>\n",
       "      <th>520283</th>\n",
       "      <td>legitimate</td>\n",
       "      <td>http://www.allopass.com/merchant/advert?from=s...</td>\n",
       "    </tr>\n",
       "    <tr>\n",
       "      <th>520284</th>\n",
       "      <td>legitimate</td>\n",
       "      <td>https://www.bvdw.org/presse/news/article/bvdw-...</td>\n",
       "    </tr>\n",
       "  </tbody>\n",
       "</table>\n",
       "<p>520285 rows × 2 columns</p>\n",
       "</div>"
      ],
      "text/plain": [
       "           Column1                                            Column2\n",
       "0       legitimate  https://oregonstateparks.org/index.cfm?do=geti...\n",
       "1         phishing  http://business.hsbc.com.camaract.mobi/system_...\n",
       "2         phishing  http://facebook.com-source-page.com/help/conta...\n",
       "3       legitimate  http://michaelnielsen.org/blog/lecture-course-...\n",
       "4         phishing  http://messagerie-17fr.com/fr/91da56ae94f5f4ff...\n",
       "...            ...                                                ...\n",
       "520280    phishing  http://www.promodar.ru/~paypalsu/www.paypal.co...\n",
       "520281  legitimate    https://accuity.com/resources/5-cs-infographic/\n",
       "520282  legitimate  https://www.elasticpath.com/resources/get-elas...\n",
       "520283  legitimate  http://www.allopass.com/merchant/advert?from=s...\n",
       "520284  legitimate  https://www.bvdw.org/presse/news/article/bvdw-...\n",
       "\n",
       "[520285 rows x 2 columns]"
      ]
     },
     "execution_count": 6,
     "metadata": {},
     "output_type": "execute_result"
    }
   ],
   "source": [
    "data = pd.concat([train, valid, test], ignore_index=True)\n",
    "# Ignore index resets the index of the newly concatenated df\n",
    "data"
   ]
  },
  {
   "cell_type": "markdown",
   "id": "fcee23b7-506a-4264-a21b-3922f7d805fa",
   "metadata": {},
   "source": [
    "Checking the label distribution"
   ]
  },
  {
   "cell_type": "code",
   "execution_count": 7,
   "id": "cc38bf87-9a28-4a81-aa97-85f280ed0d95",
   "metadata": {},
   "outputs": [
    {
     "data": {
      "text/plain": [
       "legitimate    288282\n",
       "phishing      232002\n",
       "Name: Column1, dtype: int64"
      ]
     },
     "execution_count": 7,
     "metadata": {},
     "output_type": "execute_result"
    }
   ],
   "source": [
    "data['Column1'].value_counts()"
   ]
  },
  {
   "cell_type": "markdown",
   "id": "fe983c00-04f4-42e2-b518-9d34345fce42",
   "metadata": {},
   "source": [
    "There are a more legitimate entries, but overall the dataset seems to be (fairly) balanced"
   ]
  },
  {
   "cell_type": "markdown",
   "id": "a3c0ec59-3e9a-4445-899b-d2c3a1ccd609",
   "metadata": {},
   "source": [
    "Checking for duplicates"
   ]
  },
  {
   "cell_type": "code",
   "execution_count": 8,
   "id": "d4c57dbe-5b18-4557-8af5-bc6608afe9de",
   "metadata": {},
   "outputs": [
    {
     "name": "stdout",
     "output_type": "stream",
     "text": [
      "There are 51944 duplicates\n"
     ]
    }
   ],
   "source": [
    "dup = data['Column2'].duplicated().sum()\n",
    "print('There are ' + str(dup) + ' duplicates')"
   ]
  },
  {
   "cell_type": "markdown",
   "id": "bcadb414-f70e-48bb-b8e8-0acb789eedcc",
   "metadata": {},
   "source": [
    "Checking for rows with no value"
   ]
  },
  {
   "cell_type": "code",
   "execution_count": 9,
   "id": "aaeb5cd6-7069-4797-87b8-9a848f8642e5",
   "metadata": {},
   "outputs": [
    {
     "name": "stdout",
     "output_type": "stream",
     "text": [
      "There are 1 rows with no value\n"
     ]
    }
   ],
   "source": [
    "nan = data['Column2'].isna().sum()\n",
    "print('There are ' + str(nan) + ' rows with no value')"
   ]
  },
  {
   "cell_type": "markdown",
   "id": "c79effa9-2b1a-4e7b-9319-128bae36448a",
   "metadata": {},
   "source": [
    "Now we remove the duplicates and NaN and then reset the index once more"
   ]
  },
  {
   "cell_type": "code",
   "execution_count": 10,
   "id": "d3798c6d-8553-4d78-a377-66a67d4400ca",
   "metadata": {},
   "outputs": [
    {
     "data": {
      "text/html": [
       "<div>\n",
       "<style scoped>\n",
       "    .dataframe tbody tr th:only-of-type {\n",
       "        vertical-align: middle;\n",
       "    }\n",
       "\n",
       "    .dataframe tbody tr th {\n",
       "        vertical-align: top;\n",
       "    }\n",
       "\n",
       "    .dataframe thead th {\n",
       "        text-align: right;\n",
       "    }\n",
       "</style>\n",
       "<table border=\"1\" class=\"dataframe\">\n",
       "  <thead>\n",
       "    <tr style=\"text-align: right;\">\n",
       "      <th></th>\n",
       "      <th>Column1</th>\n",
       "      <th>Column2</th>\n",
       "    </tr>\n",
       "  </thead>\n",
       "  <tbody>\n",
       "    <tr>\n",
       "      <th>0</th>\n",
       "      <td>legitimate</td>\n",
       "      <td>https://oregonstateparks.org/index.cfm?do=geti...</td>\n",
       "    </tr>\n",
       "    <tr>\n",
       "      <th>1</th>\n",
       "      <td>phishing</td>\n",
       "      <td>http://business.hsbc.com.camaract.mobi/system_...</td>\n",
       "    </tr>\n",
       "    <tr>\n",
       "      <th>2</th>\n",
       "      <td>phishing</td>\n",
       "      <td>http://facebook.com-source-page.com/help/conta...</td>\n",
       "    </tr>\n",
       "    <tr>\n",
       "      <th>3</th>\n",
       "      <td>legitimate</td>\n",
       "      <td>http://michaelnielsen.org/blog/lecture-course-...</td>\n",
       "    </tr>\n",
       "    <tr>\n",
       "      <th>4</th>\n",
       "      <td>phishing</td>\n",
       "      <td>http://messagerie-17fr.com/fr/91da56ae94f5f4ff...</td>\n",
       "    </tr>\n",
       "    <tr>\n",
       "      <th>...</th>\n",
       "      <td>...</td>\n",
       "      <td>...</td>\n",
       "    </tr>\n",
       "    <tr>\n",
       "      <th>468335</th>\n",
       "      <td>phishing</td>\n",
       "      <td>http://www.53.com.wps0177m.zarit.tk/confirm/cb...</td>\n",
       "    </tr>\n",
       "    <tr>\n",
       "      <th>468336</th>\n",
       "      <td>legitimate</td>\n",
       "      <td>https://www.somethingsimilar.com/2013/12/09/a-...</td>\n",
       "    </tr>\n",
       "    <tr>\n",
       "      <th>468337</th>\n",
       "      <td>phishing</td>\n",
       "      <td>http://tinyurl.com/l8v5dxu</td>\n",
       "    </tr>\n",
       "    <tr>\n",
       "      <th>468338</th>\n",
       "      <td>phishing</td>\n",
       "      <td>http://162.144.71.74/serv/e402b4beddb6aba50327...</td>\n",
       "    </tr>\n",
       "    <tr>\n",
       "      <th>468339</th>\n",
       "      <td>phishing</td>\n",
       "      <td>http://www.bartekbitner.pl/libraries/fof/-/din7</td>\n",
       "    </tr>\n",
       "  </tbody>\n",
       "</table>\n",
       "<p>468340 rows × 2 columns</p>\n",
       "</div>"
      ],
      "text/plain": [
       "           Column1                                            Column2\n",
       "0       legitimate  https://oregonstateparks.org/index.cfm?do=geti...\n",
       "1         phishing  http://business.hsbc.com.camaract.mobi/system_...\n",
       "2         phishing  http://facebook.com-source-page.com/help/conta...\n",
       "3       legitimate  http://michaelnielsen.org/blog/lecture-course-...\n",
       "4         phishing  http://messagerie-17fr.com/fr/91da56ae94f5f4ff...\n",
       "...            ...                                                ...\n",
       "468335    phishing  http://www.53.com.wps0177m.zarit.tk/confirm/cb...\n",
       "468336  legitimate  https://www.somethingsimilar.com/2013/12/09/a-...\n",
       "468337    phishing                         http://tinyurl.com/l8v5dxu\n",
       "468338    phishing  http://162.144.71.74/serv/e402b4beddb6aba50327...\n",
       "468339    phishing    http://www.bartekbitner.pl/libraries/fof/-/din7\n",
       "\n",
       "[468340 rows x 2 columns]"
      ]
     },
     "execution_count": 10,
     "metadata": {},
     "output_type": "execute_result"
    }
   ],
   "source": [
    "data = data.drop_duplicates()\n",
    "data = data.dropna()\n",
    "data.reset_index(drop=True, inplace=True)\n",
    "# Drop parameter drops index column, inplace parameter modifies current dataframe instead of creating a new one\n",
    "data"
   ]
  },
  {
   "cell_type": "markdown",
   "id": "9d2d5d0b-3071-45bf-af06-6ff2848c8075",
   "metadata": {},
   "source": [
    "This leaves us with approx. 468k entries, we can recheck label distribution"
   ]
  },
  {
   "cell_type": "code",
   "execution_count": 11,
   "id": "4ec34500-63e9-42fb-91ca-d3ab337011a4",
   "metadata": {},
   "outputs": [
    {
     "name": "stdout",
     "output_type": "stream",
     "text": [
      "legitimate    259750\n",
      "phishing      208590\n",
      "Name: Column1, dtype: int64\n",
      "legitimate    0.55\n",
      "phishing      0.45\n",
      "Name: Column1, dtype: float64\n"
     ]
    }
   ],
   "source": [
    "distribution = data['Column1'].value_counts()\n",
    "# normalize parameter displays percentages\n",
    "percentages = round(data['Column1'].value_counts(normalize=True), 2)\n",
    "\n",
    "print(distribution)\n",
    "print(percentages)"
   ]
  },
  {
   "cell_type": "markdown",
   "id": "2ba3b35b-94f7-457f-84d9-07e07fcb084b",
   "metadata": {},
   "source": [
    "The dataset is relatively balanced.\n",
    "Now we will check the URL length distribution using matplotlib."
   ]
  },
  {
   "cell_type": "code",
   "execution_count": 12,
   "id": "dea19af0-b6cf-4c93-82ff-4526e01c206a",
   "metadata": {},
   "outputs": [
    {
     "data": {
      "image/png": "[encoded data removed]",
      "text/plain": [
       "<Figure size 640x480 with 1 Axes>"
      ]
     },
     "metadata": {},
     "output_type": "display_data"
    }
   ],
   "source": [
    "lengths = data['Column2'].apply(len)\n",
    "\n",
    "plt.hist(lengths, color='green', edgecolor='green')\n",
    "plt.title('URL Length Distribution')\n",
    "plt.xlabel('Length')\n",
    "plt.ylabel('Count')\n",
    "plt.show()"
   ]
  },
  {
   "cell_type": "markdown",
   "id": "2f4af5da-72bd-4bcd-97d2-978f29fd9271",
   "metadata": {},
   "source": [
    "Since the histogram is plotting up to a length of 6000, that means there is at least 1 URL which is at least 6000 char long.\n",
    "It makes sense to truncate them to a smaller length. Since this dataset was provided by [10.1109/ACCESS.2024.3352629], it makes sense to use the same truncation length of 200"
   ]
  },
  {
   "cell_type": "code",
   "execution_count": 13,
   "id": "467a942d-cff6-4919-bddf-b7e4812dd43f",
   "metadata": {},
   "outputs": [
    {
     "data": {
      "image/png": "[encoded data removed]",
      "text/plain": [
       "<Figure size 640x480 with 1 Axes>"
      ]
     },
     "metadata": {},
     "output_type": "display_data"
    }
   ],
   "source": [
    "length_categories = [0, 50, 100, 150, 200, 250, 300]\n",
    "\n",
    "plt.hist(lengths, length_categories, edgecolor='white', color='green')\n",
    "plt.xlabel('Length ranges')\n",
    "plt.ylabel('Count')\n",
    "\n",
    "plt.savefig(\"length_distribution.png\", format=\"png\", dpi=300, bbox_inches=\"tight\")\n",
    "\n",
    "plt.show()"
   ]
  },
  {
   "cell_type": "markdown",
   "id": "b3ab9b39-4141-40db-b12a-8465d07688b6",
   "metadata": {},
   "source": [
    "The majority of URLs are around 50 to 100 characters long, with the count decreasing significantly after a length of 200. \n",
    "Now we can check how many of those are over 200 char long and truncate them"
   ]
  },
  {
   "cell_type": "code",
   "execution_count": 14,
   "id": "115aca8e-0ae1-42d1-8d7d-89ead64ea84e",
   "metadata": {},
   "outputs": [
    {
     "name": "stdout",
     "output_type": "stream",
     "text": [
      "There are 16213 URLs over 200 characters long\n"
     ]
    }
   ],
   "source": [
    "long_urls = (lengths > 200).sum() # Counts the num of URLs with a length over 200\n",
    "print(\"There are \" + str(long_urls) + \" URLs over 200 characters long\")"
   ]
  },
  {
   "cell_type": "code",
   "execution_count": 15,
   "id": "35a9e63d-b6d0-4a17-9f7d-ea5099a35482",
   "metadata": {},
   "outputs": [
    {
     "name": "stdout",
     "output_type": "stream",
     "text": [
      "That is 3.46 % of the dataset\n"
     ]
    }
   ],
   "source": [
    "percent = round((long_urls / len(data)) * 100, 2) # Calculates how many URLs have more than 200 chars\n",
    "print(\"That is \" + str(percent) + \" % of the dataset\")"
   ]
  },
  {
   "cell_type": "markdown",
   "id": "08c03c3f-a83f-44b6-b93c-7887102ccbc5",
   "metadata": {},
   "source": [
    "Now we will remove any illegal symbols in the dataset by using regex"
   ]
  },
  {
   "cell_type": "code",
   "execution_count": 16,
   "id": "37fef912-9d90-46b0-bc60-d82dc7d8bac5",
   "metadata": {},
   "outputs": [
    {
     "data": {
      "text/html": [
       "<div>\n",
       "<style scoped>\n",
       "    .dataframe tbody tr th:only-of-type {\n",
       "        vertical-align: middle;\n",
       "    }\n",
       "\n",
       "    .dataframe tbody tr th {\n",
       "        vertical-align: top;\n",
       "    }\n",
       "\n",
       "    .dataframe thead th {\n",
       "        text-align: right;\n",
       "    }\n",
       "</style>\n",
       "<table border=\"1\" class=\"dataframe\">\n",
       "  <thead>\n",
       "    <tr style=\"text-align: right;\">\n",
       "      <th></th>\n",
       "      <th>Column1</th>\n",
       "      <th>Column2</th>\n",
       "    </tr>\n",
       "  </thead>\n",
       "  <tbody>\n",
       "    <tr>\n",
       "      <th>0</th>\n",
       "      <td>legitimate</td>\n",
       "      <td>https://oregonstateparks.org/index.cfm?do=geti...</td>\n",
       "    </tr>\n",
       "    <tr>\n",
       "      <th>1</th>\n",
       "      <td>phishing</td>\n",
       "      <td>http://business.hsbc.com.camaract.mobi/system_...</td>\n",
       "    </tr>\n",
       "    <tr>\n",
       "      <th>2</th>\n",
       "      <td>phishing</td>\n",
       "      <td>http://facebook.com-source-page.com/help/conta...</td>\n",
       "    </tr>\n",
       "    <tr>\n",
       "      <th>3</th>\n",
       "      <td>legitimate</td>\n",
       "      <td>http://michaelnielsen.org/blog/lecture-course-...</td>\n",
       "    </tr>\n",
       "    <tr>\n",
       "      <th>4</th>\n",
       "      <td>phishing</td>\n",
       "      <td>http://messagerie-17fr.com/fr/91da56ae94f5f4ff...</td>\n",
       "    </tr>\n",
       "    <tr>\n",
       "      <th>...</th>\n",
       "      <td>...</td>\n",
       "      <td>...</td>\n",
       "    </tr>\n",
       "    <tr>\n",
       "      <th>468335</th>\n",
       "      <td>phishing</td>\n",
       "      <td>http://www.53.com.wps0177m.zarit.tk/confirm/cb...</td>\n",
       "    </tr>\n",
       "    <tr>\n",
       "      <th>468336</th>\n",
       "      <td>legitimate</td>\n",
       "      <td>https://www.somethingsimilar.com/2013/12/09/a-...</td>\n",
       "    </tr>\n",
       "    <tr>\n",
       "      <th>468337</th>\n",
       "      <td>phishing</td>\n",
       "      <td>http://tinyurl.com/l8v5dxu</td>\n",
       "    </tr>\n",
       "    <tr>\n",
       "      <th>468338</th>\n",
       "      <td>phishing</td>\n",
       "      <td>http://162.144.71.74/serv/e402b4beddb6aba50327...</td>\n",
       "    </tr>\n",
       "    <tr>\n",
       "      <th>468339</th>\n",
       "      <td>phishing</td>\n",
       "      <td>http://www.bartekbitner.pl/libraries/fof/-/din7</td>\n",
       "    </tr>\n",
       "  </tbody>\n",
       "</table>\n",
       "<p>468340 rows × 2 columns</p>\n",
       "</div>"
      ],
      "text/plain": [
       "           Column1                                            Column2\n",
       "0       legitimate  https://oregonstateparks.org/index.cfm?do=geti...\n",
       "1         phishing  http://business.hsbc.com.camaract.mobi/system_...\n",
       "2         phishing  http://facebook.com-source-page.com/help/conta...\n",
       "3       legitimate  http://michaelnielsen.org/blog/lecture-course-...\n",
       "4         phishing  http://messagerie-17fr.com/fr/91da56ae94f5f4ff...\n",
       "...            ...                                                ...\n",
       "468335    phishing  http://www.53.com.wps0177m.zarit.tk/confirm/cb...\n",
       "468336  legitimate  https://www.somethingsimilar.com/2013/12/09/a-...\n",
       "468337    phishing                         http://tinyurl.com/l8v5dxu\n",
       "468338    phishing  http://162.144.71.74/serv/e402b4beddb6aba50327...\n",
       "468339    phishing    http://www.bartekbitner.pl/libraries/fof/-/din7\n",
       "\n",
       "[468340 rows x 2 columns]"
      ]
     },
     "execution_count": 16,
     "metadata": {},
     "output_type": "execute_result"
    }
   ],
   "source": [
    "# Regex pattern for every printable ASCII character\n",
    "pattern = r'[^\\x00-\\x7F]' \n",
    "# Replace any characters that are not in pattern with an empty space\n",
    "data['Column2'] = data['Column2'].replace(pattern, '', regex=True)\n",
    "\n",
    "data"
   ]
  },
  {
   "cell_type": "code",
   "execution_count": 17,
   "id": "e3c218a5-c693-4ca4-a6ef-2180696c2394",
   "metadata": {},
   "outputs": [
    {
     "name": "stdout",
     "output_type": "stream",
     "text": [
      "200\n"
     ]
    }
   ],
   "source": [
    "# Apply truncation to dataframe URL column, remove every char after 200 if URL is longer than 200 chars\n",
    "data['Column2'] = data['Column2'].apply(lambda url: url[:200] if len(url) > 200 else url)\n",
    "                                       \n",
    "# Check the max length to ensure the function worked properly\n",
    "max_length = data['Column2'].apply(len).max()\n",
    "\n",
    "print(max_length)"
   ]
  },
  {
   "cell_type": "markdown",
   "id": "54295139-2c89-46ba-a04d-6d6e23eba2fc",
   "metadata": {},
   "source": [
    "Renaming columns, changing the labels to 0 for legitimate and 1 for phishing and lowercasing the entries. "
   ]
  },
  {
   "cell_type": "code",
   "execution_count": 18,
   "id": "fedde876-447e-4e94-900a-b43bff2fcaa6",
   "metadata": {
    "editable": true,
    "slideshow": {
     "slide_type": ""
    },
    "tags": []
   },
   "outputs": [
    {
     "data": {
      "text/html": [
       "<div>\n",
       "<style scoped>\n",
       "    .dataframe tbody tr th:only-of-type {\n",
       "        vertical-align: middle;\n",
       "    }\n",
       "\n",
       "    .dataframe tbody tr th {\n",
       "        vertical-align: top;\n",
       "    }\n",
       "\n",
       "    .dataframe thead th {\n",
       "        text-align: right;\n",
       "    }\n",
       "</style>\n",
       "<table border=\"1\" class=\"dataframe\">\n",
       "  <thead>\n",
       "    <tr style=\"text-align: right;\">\n",
       "      <th></th>\n",
       "      <th>url</th>\n",
       "      <th>label</th>\n",
       "    </tr>\n",
       "  </thead>\n",
       "  <tbody>\n",
       "    <tr>\n",
       "      <th>0</th>\n",
       "      <td>https://oregonstateparks.org/index.cfm?do=geti...</td>\n",
       "      <td>0</td>\n",
       "    </tr>\n",
       "    <tr>\n",
       "      <th>1</th>\n",
       "      <td>http://business.hsbc.com.camaract.mobi/system_...</td>\n",
       "      <td>1</td>\n",
       "    </tr>\n",
       "    <tr>\n",
       "      <th>2</th>\n",
       "      <td>http://facebook.com-source-page.com/help/conta...</td>\n",
       "      <td>1</td>\n",
       "    </tr>\n",
       "    <tr>\n",
       "      <th>3</th>\n",
       "      <td>http://michaelnielsen.org/blog/lecture-course-...</td>\n",
       "      <td>0</td>\n",
       "    </tr>\n",
       "    <tr>\n",
       "      <th>4</th>\n",
       "      <td>http://messagerie-17fr.com/fr/91da56ae94f5f4ff...</td>\n",
       "      <td>1</td>\n",
       "    </tr>\n",
       "    <tr>\n",
       "      <th>...</th>\n",
       "      <td>...</td>\n",
       "      <td>...</td>\n",
       "    </tr>\n",
       "    <tr>\n",
       "      <th>468335</th>\n",
       "      <td>http://www.53.com.wps0177m.zarit.tk/confirm/cb...</td>\n",
       "      <td>1</td>\n",
       "    </tr>\n",
       "    <tr>\n",
       "      <th>468336</th>\n",
       "      <td>https://www.somethingsimilar.com/2013/12/09/a-...</td>\n",
       "      <td>0</td>\n",
       "    </tr>\n",
       "    <tr>\n",
       "      <th>468337</th>\n",
       "      <td>http://tinyurl.com/l8v5dxu</td>\n",
       "      <td>1</td>\n",
       "    </tr>\n",
       "    <tr>\n",
       "      <th>468338</th>\n",
       "      <td>http://162.144.71.74/serv/e402b4beddb6aba50327...</td>\n",
       "      <td>1</td>\n",
       "    </tr>\n",
       "    <tr>\n",
       "      <th>468339</th>\n",
       "      <td>http://www.bartekbitner.pl/libraries/fof/-/din7</td>\n",
       "      <td>1</td>\n",
       "    </tr>\n",
       "  </tbody>\n",
       "</table>\n",
       "<p>468340 rows × 2 columns</p>\n",
       "</div>"
      ],
      "text/plain": [
       "                                                      url  label\n",
       "0       https://oregonstateparks.org/index.cfm?do=geti...      0\n",
       "1       http://business.hsbc.com.camaract.mobi/system_...      1\n",
       "2       http://facebook.com-source-page.com/help/conta...      1\n",
       "3       http://michaelnielsen.org/blog/lecture-course-...      0\n",
       "4       http://messagerie-17fr.com/fr/91da56ae94f5f4ff...      1\n",
       "...                                                   ...    ...\n",
       "468335  http://www.53.com.wps0177m.zarit.tk/confirm/cb...      1\n",
       "468336  https://www.somethingsimilar.com/2013/12/09/a-...      0\n",
       "468337                         http://tinyurl.com/l8v5dxu      1\n",
       "468338  http://162.144.71.74/serv/e402b4beddb6aba50327...      1\n",
       "468339    http://www.bartekbitner.pl/libraries/fof/-/din7      1\n",
       "\n",
       "[468340 rows x 2 columns]"
      ]
     },
     "execution_count": 18,
     "metadata": {},
     "output_type": "execute_result"
    }
   ],
   "source": [
    "# Lowercase the URL\n",
    "data['Column2'] = data['Column2'].str.lower()\n",
    "\n",
    "# Rename column1 and column2 to label and URL\n",
    "data.rename(columns={\"Column1\": \"label\", \"Column2\": \"url\"}, inplace=True)\n",
    "\n",
    "# Map classes to 0 and 1\n",
    "data[\"label\"] = data[\"label\"].map({\"legitimate\": 0, \"phishing\": 1})\n",
    "\n",
    "# Change the orientation of the columns\n",
    "data = data[['url', 'label']]\n",
    "\n",
    "data"
   ]
  },
  {
   "cell_type": "markdown",
   "id": "6bdf3c08-424e-453d-90d7-681422ffb3b3",
   "metadata": {},
   "source": [
    "Save to raw_dataset.csv"
   ]
  },
  {
   "cell_type": "code",
   "execution_count": 19,
   "id": "d704a0db-6f95-4104-929c-90789f50d0d0",
   "metadata": {},
   "outputs": [
    {
     "data": {
      "text/html": [
       "<div>\n",
       "<style scoped>\n",
       "    .dataframe tbody tr th:only-of-type {\n",
       "        vertical-align: middle;\n",
       "    }\n",
       "\n",
       "    .dataframe tbody tr th {\n",
       "        vertical-align: top;\n",
       "    }\n",
       "\n",
       "    .dataframe thead th {\n",
       "        text-align: right;\n",
       "    }\n",
       "</style>\n",
       "<table border=\"1\" class=\"dataframe\">\n",
       "  <thead>\n",
       "    <tr style=\"text-align: right;\">\n",
       "      <th></th>\n",
       "      <th>url</th>\n",
       "      <th>label</th>\n",
       "    </tr>\n",
       "  </thead>\n",
       "  <tbody>\n",
       "    <tr>\n",
       "      <th>0</th>\n",
       "      <td>https://oregonstateparks.org/index.cfm?do=geti...</td>\n",
       "      <td>0</td>\n",
       "    </tr>\n",
       "    <tr>\n",
       "      <th>1</th>\n",
       "      <td>http://business.hsbc.com.camaract.mobi/system_...</td>\n",
       "      <td>1</td>\n",
       "    </tr>\n",
       "    <tr>\n",
       "      <th>2</th>\n",
       "      <td>http://facebook.com-source-page.com/help/conta...</td>\n",
       "      <td>1</td>\n",
       "    </tr>\n",
       "    <tr>\n",
       "      <th>3</th>\n",
       "      <td>http://michaelnielsen.org/blog/lecture-course-...</td>\n",
       "      <td>0</td>\n",
       "    </tr>\n",
       "    <tr>\n",
       "      <th>4</th>\n",
       "      <td>http://messagerie-17fr.com/fr/91da56ae94f5f4ff...</td>\n",
       "      <td>1</td>\n",
       "    </tr>\n",
       "    <tr>\n",
       "      <th>...</th>\n",
       "      <td>...</td>\n",
       "      <td>...</td>\n",
       "    </tr>\n",
       "    <tr>\n",
       "      <th>468335</th>\n",
       "      <td>http://www.53.com.wps0177m.zarit.tk/confirm/cb...</td>\n",
       "      <td>1</td>\n",
       "    </tr>\n",
       "    <tr>\n",
       "      <th>468336</th>\n",
       "      <td>https://www.somethingsimilar.com/2013/12/09/a-...</td>\n",
       "      <td>0</td>\n",
       "    </tr>\n",
       "    <tr>\n",
       "      <th>468337</th>\n",
       "      <td>http://tinyurl.com/l8v5dxu</td>\n",
       "      <td>1</td>\n",
       "    </tr>\n",
       "    <tr>\n",
       "      <th>468338</th>\n",
       "      <td>http://162.144.71.74/serv/e402b4beddb6aba50327...</td>\n",
       "      <td>1</td>\n",
       "    </tr>\n",
       "    <tr>\n",
       "      <th>468339</th>\n",
       "      <td>http://www.bartekbitner.pl/libraries/fof/-/din7</td>\n",
       "      <td>1</td>\n",
       "    </tr>\n",
       "  </tbody>\n",
       "</table>\n",
       "<p>468340 rows × 2 columns</p>\n",
       "</div>"
      ],
      "text/plain": [
       "                                                      url  label\n",
       "0       https://oregonstateparks.org/index.cfm?do=geti...      0\n",
       "1       http://business.hsbc.com.camaract.mobi/system_...      1\n",
       "2       http://facebook.com-source-page.com/help/conta...      1\n",
       "3       http://michaelnielsen.org/blog/lecture-course-...      0\n",
       "4       http://messagerie-17fr.com/fr/91da56ae94f5f4ff...      1\n",
       "...                                                   ...    ...\n",
       "468335  http://www.53.com.wps0177m.zarit.tk/confirm/cb...      1\n",
       "468336  https://www.somethingsimilar.com/2013/12/09/a-...      0\n",
       "468337                         http://tinyurl.com/l8v5dxu      1\n",
       "468338  http://162.144.71.74/serv/e402b4beddb6aba50327...      1\n",
       "468339    http://www.bartekbitner.pl/libraries/fof/-/din7      1\n",
       "\n",
       "[468340 rows x 2 columns]"
      ]
     },
     "execution_count": 19,
     "metadata": {},
     "output_type": "execute_result"
    }
   ],
   "source": [
    "# Save dataset\n",
    "data.to_csv('baseline_dataset.csv', index=True)\n",
    "data"
   ]
  },
  {
   "cell_type": "code",
   "execution_count": 20,
   "id": "dc1d0d7e-18ba-4195-9a3d-66c10bfe2c89",
   "metadata": {},
   "outputs": [
    {
     "data": {
      "text/plain": [
       "0    259750\n",
       "1    208590\n",
       "Name: label, dtype: int64"
      ]
     },
     "execution_count": 20,
     "metadata": {},
     "output_type": "execute_result"
    }
   ],
   "source": [
    "data['label'].value_counts()"
   ]
  }
 ],
 "metadata": {
  "kernelspec": {
   "display_name": "Python 3 (ipykernel)",
   "language": "python",
   "name": "python3"
  },
  "language_info": {
   "codemirror_mode": {
    "name": "ipython",
    "version": 3
   },
   "file_extension": ".py",
   "mimetype": "text/x-python",
   "name": "python",
   "nbconvert_exporter": "python",
   "pygments_lexer": "ipython3",
   "version": "3.11.7"
  }
 },
 "nbformat": 4,
 "nbformat_minor": 5
}
