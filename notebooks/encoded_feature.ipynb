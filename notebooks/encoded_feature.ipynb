{
 "cells": [
  {
   "cell_type": "code",
   "execution_count": 1,
   "id": "ac3fe8d2-7200-416c-af38-be9007b46279",
   "metadata": {},
   "outputs": [],
   "source": [
    "import pandas as pd\n",
    "import numpy as np\n",
    "from sklearn.model_selection import train_test_split\n",
    "from tensorflow.keras.models import Sequential\n",
    "from tensorflow.keras.layers import Conv1D, MaxPooling1D, Flatten, Dense, Input, Dropout\n",
    "from tensorflow.keras.preprocessing.sequence import pad_sequences"
   ]
  },
  {
   "cell_type": "code",
   "execution_count": 3,
   "id": "7e4c2c96-d0ba-48a7-af61-a90f7b7051c9",
   "metadata": {},
   "outputs": [
    {
     "name": "stdout",
     "output_type": "stream",
     "text": [
      "Datasets loaded successfully.\n"
     ]
    }
   ],
   "source": [
    "f128 = pd.read_csv('f128_2_dataset.csv')\n",
    "f256_2 = pd.read_csv('f256_2_dataset.csv')\n",
    "f256_4 = pd.read_csv('f256_4_dataset.csv')\n",
    "f512_4 = pd.read_csv('f512_4_dataset.csv')\n",
    "f512_8 = pd.read_csv('f512_8_dataset.csv')\n",
    "f1024 = pd.read_csv('f1024_8_dataset.csv')\n",
    "\n",
    "print(\"Datasets loaded successfully.\")"
   ]
  },
  {
   "cell_type": "code",
   "execution_count": 4,
   "id": "8848c43f-bd60-46b1-bd4e-c0f928a5650e",
   "metadata": {},
   "outputs": [
    {
     "name": "stdout",
     "output_type": "stream",
     "text": [
      "Models created successfully.\n"
     ]
    }
   ],
   "source": [
    "# Function to create model with different input shapes\n",
    "def create_model(input_shape):\n",
    "    model = Sequential()\n",
    "\n",
    "    # Input layer\n",
    "    model.add(Input(shape=input_shape))\n",
    "\n",
    "    # Convolutional layers\n",
    "    model.add(Conv1D(128, 3, activation='relu'))\n",
    "    model.add(MaxPooling1D())\n",
    "    model.add(Conv1D(128, 3, activation='relu'))\n",
    "    model.add(MaxPooling1D())\n",
    "    model.add(Dropout(0.2))\n",
    "\n",
    "    # Fully connected layers\n",
    "    model.add(Flatten())\n",
    "    model.add(Dense(64, activation='relu'))\n",
    "    model.add(Dense(1, activation='sigmoid'))\n",
    "\n",
    "    # Compile model\n",
    "    model.compile(loss='binary_crossentropy', optimizer='adam', metrics=['accuracy', 'precision', 'recall'])\n",
    "\n",
    "    return model\n",
    "\n",
    "# Pre-create models for each dataset size\n",
    "model_128 = create_model(input_shape=(128, 1))\n",
    "model_256 = create_model(input_shape=(256, 1))\n",
    "model_512 = create_model(input_shape=(512, 1))\n",
    "model_1024 = create_model(input_shape=(1024, 1))\n",
    "print(\"Models created successfully.\")"
   ]
  },
  {
   "cell_type": "code",
   "execution_count": 5,
   "id": "077fa98d-bff4-48ba-9f92-3742133a4841",
   "metadata": {},
   "outputs": [],
   "source": [
    "# Functions to remove redudant code as encoded_url.ipynb\n",
    "def convert_and_split (data, labels, test_size=0.3, val_size=1/3, random_state=42):\n",
    "    # Map binary strings to integers\n",
    "    X = np.array([list(map(int, x)) for x in data])\n",
    "    y = labels\n",
    "\n",
    "    # Split dataset\n",
    "    X_train, X_temp, y_train, y_temp = train_test_split(X, y, test_size=test_size, random_state=random_state)\n",
    "    X_val, X_test, y_val, y_test = train_test_split(X_temp, y_temp, test_size=test_size, random_state=random_state)\n",
    "\n",
    "    return X_train, y_train, X_test, y_test, X_val, y_val\n",
    "\n",
    "def train_and_evaluate_model(model, X_train, y_train, X_test, y_test, X_val, y_val, epochs=8, batch_size=128):\n",
    "\n",
    "\n",
    "    # Train\n",
    "    history = model.fit(\n",
    "        X_train, \n",
    "        y_train, \n",
    "        epochs=epochs, \n",
    "        batch_size=batch_size, \n",
    "        validation_data=(X_val, y_val)\n",
    "    )\n",
    "\n",
    "    # Evaluate\n",
    "    loss, accuracy, precision, recall = model.evaluate(X_test, y_test)\n",
    "\n",
    "    # Print results\n",
    "    print(f\"Accuracy: {round(accuracy, 4)}\")\n",
    "    print(f\"Precision: {round(precision, 4)}\")\n",
    "    print(f\"Recall: {round(recall, 4)}\")\n",
    "    print(f\"Loss: {round(loss, 4)}\")\n",
    "\n",
    "    # Return history for graph plotting\n",
    "    return history.history"
   ]
  },
  {
   "cell_type": "code",
   "execution_count": 8,
   "id": "5065b265-7691-43b4-971d-cf3e0f9e7f96",
   "metadata": {},
   "outputs": [
    {
     "name": "stdout",
     "output_type": "stream",
     "text": [
      "Data split successfully\n",
      "Epoch 1/8\n",
      "\u001b[1m2562/2562\u001b[0m \u001b[32m━━━━━━━━━━━━━━━━━━━━\u001b[0m\u001b[37m\u001b[0m \u001b[1m34s\u001b[0m 12ms/step - accuracy: 0.8175 - loss: 0.3804 - precision: 0.7569 - recall: 0.8676 - val_accuracy: 0.8313 - val_loss: 0.3564 - val_precision: 0.7750 - val_recall: 0.8744\n",
      "Epoch 2/8\n",
      "\u001b[1m2562/2562\u001b[0m \u001b[32m━━━━━━━━━━━━━━━━━━━━\u001b[0m\u001b[37m\u001b[0m \u001b[1m32s\u001b[0m 12ms/step - accuracy: 0.8305 - loss: 0.3575 - precision: 0.7727 - recall: 0.8796 - val_accuracy: 0.8332 - val_loss: 0.3529 - val_precision: 0.7718 - val_recall: 0.8869\n",
      "Epoch 3/8\n",
      "\u001b[1m2562/2562\u001b[0m \u001b[32m━━━━━━━━━━━━━━━━━━━━\u001b[0m\u001b[37m\u001b[0m \u001b[1m32s\u001b[0m 12ms/step - accuracy: 0.8302 - loss: 0.3557 - precision: 0.7720 - recall: 0.8773 - val_accuracy: 0.8330 - val_loss: 0.3517 - val_precision: 0.7738 - val_recall: 0.8824\n",
      "Epoch 4/8\n",
      "\u001b[1m2562/2562\u001b[0m \u001b[32m━━━━━━━━━━━━━━━━━━━━\u001b[0m\u001b[37m\u001b[0m \u001b[1m32s\u001b[0m 12ms/step - accuracy: 0.8309 - loss: 0.3543 - precision: 0.7725 - recall: 0.8792 - val_accuracy: 0.8317 - val_loss: 0.3545 - val_precision: 0.7589 - val_recall: 0.9107\n",
      "Epoch 5/8\n",
      "\u001b[1m2562/2562\u001b[0m \u001b[32m━━━━━━━━━━━━━━━━━━━━\u001b[0m\u001b[37m\u001b[0m \u001b[1m32s\u001b[0m 12ms/step - accuracy: 0.8310 - loss: 0.3543 - precision: 0.7706 - recall: 0.8824 - val_accuracy: 0.8326 - val_loss: 0.3509 - val_precision: 0.7802 - val_recall: 0.8680\n",
      "Epoch 6/8\n",
      "\u001b[1m2562/2562\u001b[0m \u001b[32m━━━━━━━━━━━━━━━━━━━━\u001b[0m\u001b[37m\u001b[0m \u001b[1m32s\u001b[0m 12ms/step - accuracy: 0.8316 - loss: 0.3521 - precision: 0.7715 - recall: 0.8843 - val_accuracy: 0.8306 - val_loss: 0.3520 - val_precision: 0.7685 - val_recall: 0.8857\n",
      "Epoch 7/8\n",
      "\u001b[1m2562/2562\u001b[0m \u001b[32m━━━━━━━━━━━━━━━━━━━━\u001b[0m\u001b[37m\u001b[0m \u001b[1m32s\u001b[0m 12ms/step - accuracy: 0.8326 - loss: 0.3516 - precision: 0.7750 - recall: 0.8784 - val_accuracy: 0.8337 - val_loss: 0.3517 - val_precision: 0.7662 - val_recall: 0.9007\n",
      "Epoch 8/8\n",
      "\u001b[1m2562/2562\u001b[0m \u001b[32m━━━━━━━━━━━━━━━━━━━━\u001b[0m\u001b[37m\u001b[0m \u001b[1m32s\u001b[0m 13ms/step - accuracy: 0.8326 - loss: 0.3519 - precision: 0.7730 - recall: 0.8842 - val_accuracy: 0.8337 - val_loss: 0.3494 - val_precision: 0.7679 - val_recall: 0.8970\n",
      "\u001b[1m1318/1318\u001b[0m \u001b[32m━━━━━━━━━━━━━━━━━━━━\u001b[0m\u001b[37m\u001b[0m \u001b[1m2s\u001b[0m 2ms/step - accuracy: 0.8334 - loss: 0.3467 - precision: 0.7699 - recall: 0.8944\n",
      "Accuracy: 0.8346\n",
      "Precision: 0.7692\n",
      "Recall: 0.8973\n",
      "Loss: 0.3457\n"
     ]
    }
   ],
   "source": [
    "# l=128, k=2 dataset evaluation\n",
    "X_128 = f128['feature_encodings']\n",
    "y_128 = f128['label']\n",
    "\n",
    "# Split the dataset\n",
    "X_train, y_train, X_test, y_test, X_val, y_val = convert_and_split(X_128, y_128)\n",
    "print(\"Data split successfully\")\n",
    "\n",
    "# Train and evaluate the model\n",
    "results_128 = train_and_evaluate_model(model_128, X_train, y_train, X_test, y_test, X_val, y_val)"
   ]
  },
  {
   "cell_type": "code",
   "execution_count": 9,
   "id": "5da7cd0f-3089-4ed9-b9cf-b6f7f1a2d403",
   "metadata": {},
   "outputs": [
    {
     "name": "stdout",
     "output_type": "stream",
     "text": [
      "Data split successfully\n",
      "Epoch 1/8\n",
      "\u001b[1m2562/2562\u001b[0m \u001b[32m━━━━━━━━━━━━━━━━━━━━\u001b[0m\u001b[37m\u001b[0m \u001b[1m65s\u001b[0m 25ms/step - accuracy: 0.8201 - loss: 0.3807 - precision: 0.7687 - recall: 0.8513 - val_accuracy: 0.8401 - val_loss: 0.3501 - val_precision: 0.7832 - val_recall: 0.8853\n",
      "Epoch 2/8\n",
      "\u001b[1m2562/2562\u001b[0m \u001b[32m━━━━━━━━━━━━━━━━━━━━\u001b[0m\u001b[37m\u001b[0m \u001b[1m64s\u001b[0m 25ms/step - accuracy: 0.8385 - loss: 0.3515 - precision: 0.7871 - recall: 0.8741 - val_accuracy: 0.8394 - val_loss: 0.3485 - val_precision: 0.7701 - val_recall: 0.9107\n",
      "Epoch 3/8\n",
      "\u001b[1m2562/2562\u001b[0m \u001b[32m━━━━━━━━━━━━━━━━━━━━\u001b[0m\u001b[37m\u001b[0m \u001b[1m64s\u001b[0m 25ms/step - accuracy: 0.8403 - loss: 0.3496 - precision: 0.7898 - recall: 0.8743 - val_accuracy: 0.8454 - val_loss: 0.3426 - val_precision: 0.7931 - val_recall: 0.8823\n",
      "Epoch 4/8\n",
      "\u001b[1m2562/2562\u001b[0m \u001b[32m━━━━━━━━━━━━━━━━━━━━\u001b[0m\u001b[37m\u001b[0m \u001b[1m64s\u001b[0m 25ms/step - accuracy: 0.8410 - loss: 0.3478 - precision: 0.7910 - recall: 0.8739 - val_accuracy: 0.8455 - val_loss: 0.3415 - val_precision: 0.7877 - val_recall: 0.8930\n",
      "Epoch 5/8\n",
      "\u001b[1m2562/2562\u001b[0m \u001b[32m━━━━━━━━━━━━━━━━━━━━\u001b[0m\u001b[37m\u001b[0m \u001b[1m64s\u001b[0m 25ms/step - accuracy: 0.8423 - loss: 0.3457 - precision: 0.7924 - recall: 0.8761 - val_accuracy: 0.8460 - val_loss: 0.3423 - val_precision: 0.7991 - val_recall: 0.8729\n",
      "Epoch 6/8\n",
      "\u001b[1m2562/2562\u001b[0m \u001b[32m━━━━━━━━━━━━━━━━━━━━\u001b[0m\u001b[37m\u001b[0m \u001b[1m64s\u001b[0m 25ms/step - accuracy: 0.8429 - loss: 0.3445 - precision: 0.7920 - recall: 0.8766 - val_accuracy: 0.8441 - val_loss: 0.3421 - val_precision: 0.7821 - val_recall: 0.9001\n",
      "Epoch 7/8\n",
      "\u001b[1m2562/2562\u001b[0m \u001b[32m━━━━━━━━━━━━━━━━━━━━\u001b[0m\u001b[37m\u001b[0m \u001b[1m64s\u001b[0m 25ms/step - accuracy: 0.8438 - loss: 0.3435 - precision: 0.7932 - recall: 0.8791 - val_accuracy: 0.8462 - val_loss: 0.3397 - val_precision: 0.7985 - val_recall: 0.8747\n",
      "Epoch 8/8\n",
      "\u001b[1m2562/2562\u001b[0m \u001b[32m━━━━━━━━━━━━━━━━━━━━\u001b[0m\u001b[37m\u001b[0m \u001b[1m64s\u001b[0m 25ms/step - accuracy: 0.8444 - loss: 0.3425 - precision: 0.7949 - recall: 0.8770 - val_accuracy: 0.8465 - val_loss: 0.3393 - val_precision: 0.7998 - val_recall: 0.8734\n",
      "\u001b[1m1318/1318\u001b[0m \u001b[32m━━━━━━━━━━━━━━━━━━━━\u001b[0m\u001b[37m\u001b[0m \u001b[1m3s\u001b[0m 2ms/step - accuracy: 0.8481 - loss: 0.3355 - precision: 0.8027 - recall: 0.8751\n",
      "Accuracy: 0.8495\n",
      "Precision: 0.8032\n",
      "Recall: 0.8763\n",
      "Loss: 0.336\n"
     ]
    }
   ],
   "source": [
    "# l=256, k=2 dataset evaluation\n",
    "X_256_2 = f256_2['feature_encodings']\n",
    "y_256_2 = f256_2['label']\n",
    "\n",
    "# Split the dataset\n",
    "X_train, y_train, X_test, y_test, X_val, y_val = convert_and_split(X_256_2, y_256_2)\n",
    "print(\"Data split successfully\")\n",
    "\n",
    "# Train and evaluate the model\n",
    "results_256_2 = train_and_evaluate_model(model_256, X_train, y_train, X_test, y_test, X_val, y_val)"
   ]
  },
  {
   "cell_type": "code",
   "execution_count": 10,
   "id": "3eaa8389-f83b-4001-b369-36aef65dfa82",
   "metadata": {},
   "outputs": [
    {
     "name": "stdout",
     "output_type": "stream",
     "text": [
      "Data split successfully\n",
      "Epoch 1/8\n",
      "\u001b[1m2562/2562\u001b[0m \u001b[32m━━━━━━━━━━━━━━━━━━━━\u001b[0m\u001b[37m\u001b[0m \u001b[1m65s\u001b[0m 25ms/step - accuracy: 0.8350 - loss: 0.3565 - precision: 0.7808 - recall: 0.8759 - val_accuracy: 0.8460 - val_loss: 0.3407 - val_precision: 0.8012 - val_recall: 0.8693\n",
      "Epoch 2/8\n",
      "\u001b[1m2562/2562\u001b[0m \u001b[32m━━━━━━━━━━━━━━━━━━━━\u001b[0m\u001b[37m\u001b[0m \u001b[1m65s\u001b[0m 25ms/step - accuracy: 0.8427 - loss: 0.3449 - precision: 0.7911 - recall: 0.8792 - val_accuracy: 0.8449 - val_loss: 0.3420 - val_precision: 0.7873 - val_recall: 0.8921\n",
      "Epoch 3/8\n",
      "\u001b[1m2562/2562\u001b[0m \u001b[32m━━━━━━━━━━━━━━━━━━━━\u001b[0m\u001b[37m\u001b[0m \u001b[1m65s\u001b[0m 25ms/step - accuracy: 0.8431 - loss: 0.3443 - precision: 0.7907 - recall: 0.8813 - val_accuracy: 0.8455 - val_loss: 0.3391 - val_precision: 0.7806 - val_recall: 0.9075\n",
      "Epoch 4/8\n",
      "\u001b[1m2562/2562\u001b[0m \u001b[32m━━━━━━━━━━━━━━━━━━━━\u001b[0m\u001b[37m\u001b[0m \u001b[1m65s\u001b[0m 25ms/step - accuracy: 0.8440 - loss: 0.3414 - precision: 0.7915 - recall: 0.8804 - val_accuracy: 0.8469 - val_loss: 0.3381 - val_precision: 0.7898 - val_recall: 0.8934\n",
      "Epoch 5/8\n",
      "\u001b[1m2562/2562\u001b[0m \u001b[32m━━━━━━━━━━━━━━━━━━━━\u001b[0m\u001b[37m\u001b[0m \u001b[1m65s\u001b[0m 25ms/step - accuracy: 0.8443 - loss: 0.3417 - precision: 0.7923 - recall: 0.8826 - val_accuracy: 0.8457 - val_loss: 0.3386 - val_precision: 0.7835 - val_recall: 0.9023\n",
      "Epoch 6/8\n",
      "\u001b[1m2562/2562\u001b[0m \u001b[32m━━━━━━━━━━━━━━━━━━━━\u001b[0m\u001b[37m\u001b[0m \u001b[1m65s\u001b[0m 25ms/step - accuracy: 0.8440 - loss: 0.3427 - precision: 0.7913 - recall: 0.8828 - val_accuracy: 0.8470 - val_loss: 0.3405 - val_precision: 0.8014 - val_recall: 0.8719\n",
      "Epoch 7/8\n",
      "\u001b[1m2562/2562\u001b[0m \u001b[32m━━━━━━━━━━━━━━━━━━━━\u001b[0m\u001b[37m\u001b[0m \u001b[1m65s\u001b[0m 25ms/step - accuracy: 0.8441 - loss: 0.3399 - precision: 0.7927 - recall: 0.8804 - val_accuracy: 0.8448 - val_loss: 0.3388 - val_precision: 0.7758 - val_recall: 0.9155\n",
      "Epoch 8/8\n",
      "\u001b[1m2562/2562\u001b[0m \u001b[32m━━━━━━━━━━━━━━━━━━━━\u001b[0m\u001b[37m\u001b[0m \u001b[1m65s\u001b[0m 25ms/step - accuracy: 0.8454 - loss: 0.3387 - precision: 0.7925 - recall: 0.8853 - val_accuracy: 0.8452 - val_loss: 0.3371 - val_precision: 0.8060 - val_recall: 0.8583\n",
      "\u001b[1m1318/1318\u001b[0m \u001b[32m━━━━━━━━━━━━━━━━━━━━\u001b[0m\u001b[37m\u001b[0m \u001b[1m3s\u001b[0m 2ms/step - accuracy: 0.8477 - loss: 0.3326 - precision: 0.8097 - recall: 0.8612\n",
      "Accuracy: 0.8478\n",
      "Precision: 0.8091\n",
      "Recall: 0.861\n",
      "Loss: 0.3332\n"
     ]
    }
   ],
   "source": [
    "# l=256, k=4 dataset evaluation\n",
    "X_256_4 = f256_4['feature_encodings']\n",
    "y_256_4 = f256_4['label']\n",
    "\n",
    "# Split the dataset\n",
    "X_train, y_train, X_test, y_test, X_val, y_val = convert_and_split(X_256_4, y_256_4)\n",
    "print(\"Data split successfully\")\n",
    "\n",
    "# Train and evaluate the model\n",
    "results_256_4 = train_and_evaluate_model(model_256, X_train, y_train, X_test, y_test, X_val, y_val)"
   ]
  },
  {
   "cell_type": "code",
   "execution_count": 11,
   "id": "dd027727-1705-49ea-9f69-b5f4f583d207",
   "metadata": {},
   "outputs": [
    {
     "name": "stdout",
     "output_type": "stream",
     "text": [
      "Data split successfully\n",
      "Epoch 1/8\n",
      "\u001b[1m2562/2562\u001b[0m \u001b[32m━━━━━━━━━━━━━━━━━━━━\u001b[0m\u001b[37m\u001b[0m \u001b[1m143s\u001b[0m 55ms/step - accuracy: 0.8236 - loss: 0.3745 - precision: 0.7663 - recall: 0.8703 - val_accuracy: 0.8432 - val_loss: 0.3441 - val_precision: 0.8020 - val_recall: 0.8596\n",
      "Epoch 2/8\n",
      "\u001b[1m2562/2562\u001b[0m \u001b[32m━━━━━━━━━━━━━━━━━━━━\u001b[0m\u001b[37m\u001b[0m \u001b[1m140s\u001b[0m 55ms/step - accuracy: 0.8414 - loss: 0.3474 - precision: 0.7879 - recall: 0.8816 - val_accuracy: 0.8445 - val_loss: 0.3431 - val_precision: 0.7786 - val_recall: 0.9084\n",
      "Epoch 3/8\n",
      "\u001b[1m2562/2562\u001b[0m \u001b[32m━━━━━━━━━━━━━━━━━━━━\u001b[0m\u001b[37m\u001b[0m \u001b[1m142s\u001b[0m 55ms/step - accuracy: 0.8425 - loss: 0.3438 - precision: 0.7894 - recall: 0.8833 - val_accuracy: 0.8457 - val_loss: 0.3400 - val_precision: 0.8019 - val_recall: 0.8669\n",
      "Epoch 4/8\n",
      "\u001b[1m2562/2562\u001b[0m \u001b[32m━━━━━━━━━━━━━━━━━━━━\u001b[0m\u001b[37m\u001b[0m \u001b[1m141s\u001b[0m 55ms/step - accuracy: 0.8436 - loss: 0.3432 - precision: 0.7909 - recall: 0.8817 - val_accuracy: 0.8475 - val_loss: 0.3386 - val_precision: 0.7981 - val_recall: 0.8794\n",
      "Epoch 5/8\n",
      "\u001b[1m2562/2562\u001b[0m \u001b[32m━━━━━━━━━━━━━━━━━━━━\u001b[0m\u001b[37m\u001b[0m \u001b[1m141s\u001b[0m 55ms/step - accuracy: 0.8457 - loss: 0.3402 - precision: 0.7931 - recall: 0.8842 - val_accuracy: 0.8464 - val_loss: 0.3385 - val_precision: 0.7846 - val_recall: 0.9020\n",
      "Epoch 6/8\n",
      "\u001b[1m2562/2562\u001b[0m \u001b[32m━━━━━━━━━━━━━━━━━━━━\u001b[0m\u001b[37m\u001b[0m \u001b[1m141s\u001b[0m 55ms/step - accuracy: 0.8440 - loss: 0.3419 - precision: 0.7914 - recall: 0.8832 - val_accuracy: 0.8471 - val_loss: 0.3413 - val_precision: 0.7958 - val_recall: 0.8824\n",
      "Epoch 7/8\n",
      "\u001b[1m2562/2562\u001b[0m \u001b[32m━━━━━━━━━━━━━━━━━━━━\u001b[0m\u001b[37m\u001b[0m \u001b[1m141s\u001b[0m 55ms/step - accuracy: 0.8442 - loss: 0.3411 - precision: 0.7919 - recall: 0.8818 - val_accuracy: 0.8458 - val_loss: 0.3371 - val_precision: 0.7798 - val_recall: 0.9102\n",
      "Epoch 8/8\n",
      "\u001b[1m2562/2562\u001b[0m \u001b[32m━━━━━━━━━━━━━━━━━━━━\u001b[0m\u001b[37m\u001b[0m \u001b[1m142s\u001b[0m 55ms/step - accuracy: 0.8459 - loss: 0.3383 - precision: 0.7936 - recall: 0.8856 - val_accuracy: 0.8460 - val_loss: 0.3386 - val_precision: 0.7942 - val_recall: 0.8823\n",
      "\u001b[1m1318/1318\u001b[0m \u001b[32m━━━━━━━━━━━━━━━━━━━━\u001b[0m\u001b[37m\u001b[0m \u001b[1m6s\u001b[0m 4ms/step - accuracy: 0.8475 - loss: 0.3336 - precision: 0.7970 - recall: 0.8838\n",
      "Accuracy: 0.848\n",
      "Precision: 0.797\n",
      "Recall: 0.8832\n",
      "Loss: 0.335\n"
     ]
    }
   ],
   "source": [
    "# l=512, k=4 dataset evaluation\n",
    "X_512_4 = f512_4['feature_encodings']\n",
    "y_512_4 = f512_4['label']\n",
    "\n",
    "# Split the dataset\n",
    "X_train, y_train, X_test, y_test, X_val, y_val = convert_and_split(X_512_4, y_512_4)\n",
    "print(\"Data split successfully\")\n",
    "\n",
    "# Train and evaluate the model\n",
    "results_512_4 = train_and_evaluate_model(model_512, X_train, y_train, X_test, y_test, X_val, y_val)"
   ]
  },
  {
   "cell_type": "code",
   "execution_count": 12,
   "id": "6113aec5-6ca6-49d2-950b-0d654d1ef531",
   "metadata": {
    "scrolled": true
   },
   "outputs": [
    {
     "name": "stdout",
     "output_type": "stream",
     "text": [
      "Data split successfully\n",
      "Epoch 1/8\n",
      "\u001b[1m2562/2562\u001b[0m \u001b[32m━━━━━━━━━━━━━━━━━━━━\u001b[0m\u001b[37m\u001b[0m \u001b[1m142s\u001b[0m 55ms/step - accuracy: 0.8389 - loss: 0.3506 - precision: 0.7846 - recall: 0.8798 - val_accuracy: 0.8460 - val_loss: 0.3392 - val_precision: 0.8011 - val_recall: 0.8693\n",
      "Epoch 2/8\n",
      "\u001b[1m2562/2562\u001b[0m \u001b[32m━━━━━━━━━━━━━━━━━━━━\u001b[0m\u001b[37m\u001b[0m \u001b[1m155s\u001b[0m 61ms/step - accuracy: 0.8436 - loss: 0.3427 - precision: 0.7905 - recall: 0.8820 - val_accuracy: 0.8473 - val_loss: 0.3372 - val_precision: 0.7889 - val_recall: 0.8965\n",
      "Epoch 3/8\n",
      "\u001b[1m2562/2562\u001b[0m \u001b[32m━━━━━━━━━━━━━━━━━━━━\u001b[0m\u001b[37m\u001b[0m \u001b[1m154s\u001b[0m 60ms/step - accuracy: 0.8452 - loss: 0.3390 - precision: 0.7930 - recall: 0.8825 - val_accuracy: 0.8467 - val_loss: 0.3371 - val_precision: 0.8007 - val_recall: 0.8722\n",
      "Epoch 4/8\n",
      "\u001b[1m2562/2562\u001b[0m \u001b[32m━━━━━━━━━━━━━━━━━━━━\u001b[0m\u001b[37m\u001b[0m \u001b[1m152s\u001b[0m 59ms/step - accuracy: 0.8440 - loss: 0.3398 - precision: 0.7927 - recall: 0.8812 - val_accuracy: 0.8462 - val_loss: 0.3388 - val_precision: 0.7801 - val_recall: 0.9107\n",
      "Epoch 5/8\n",
      "\u001b[1m2562/2562\u001b[0m \u001b[32m━━━━━━━━━━━━━━━━━━━━\u001b[0m\u001b[37m\u001b[0m \u001b[1m153s\u001b[0m 60ms/step - accuracy: 0.8464 - loss: 0.3379 - precision: 0.7950 - recall: 0.8837 - val_accuracy: 0.8458 - val_loss: 0.3370 - val_precision: 0.7832 - val_recall: 0.9030\n",
      "Epoch 6/8\n",
      "\u001b[1m2562/2562\u001b[0m \u001b[32m━━━━━━━━━━━━━━━━━━━━\u001b[0m\u001b[37m\u001b[0m \u001b[1m151s\u001b[0m 59ms/step - accuracy: 0.8454 - loss: 0.3390 - precision: 0.7936 - recall: 0.8832 - val_accuracy: 0.8474 - val_loss: 0.3361 - val_precision: 0.7870 - val_recall: 0.9004\n",
      "Epoch 7/8\n",
      "\u001b[1m2562/2562\u001b[0m \u001b[32m━━━━━━━━━━━━━━━━━━━━\u001b[0m\u001b[37m\u001b[0m \u001b[1m157s\u001b[0m 61ms/step - accuracy: 0.8448 - loss: 0.3386 - precision: 0.7918 - recall: 0.8829 - val_accuracy: 0.8475 - val_loss: 0.3359 - val_precision: 0.8018 - val_recall: 0.8726\n",
      "Epoch 8/8\n",
      "\u001b[1m2562/2562\u001b[0m \u001b[32m━━━━━━━━━━━━━━━━━━━━\u001b[0m\u001b[37m\u001b[0m \u001b[1m155s\u001b[0m 60ms/step - accuracy: 0.8457 - loss: 0.3387 - precision: 0.7945 - recall: 0.8816 - val_accuracy: 0.8477 - val_loss: 0.3348 - val_precision: 0.8004 - val_recall: 0.8757\n",
      "\u001b[1m1318/1318\u001b[0m \u001b[32m━━━━━━━━━━━━━━━━━━━━\u001b[0m\u001b[37m\u001b[0m \u001b[1m7s\u001b[0m 5ms/step - accuracy: 0.8485 - loss: 0.3303 - precision: 0.8024 - recall: 0.8768\n",
      "Accuracy: 0.8501\n",
      "Precision: 0.8034\n",
      "Recall: 0.8779\n",
      "Loss: 0.3308\n"
     ]
    }
   ],
   "source": [
    "# l=512, k=8 dataset evaluation\n",
    "X_512_8 = f512_8['feature_encodings']\n",
    "y_512_8 = f512_8['label']\n",
    "\n",
    "# Split the dataset\n",
    "X_train, y_train, X_test, y_test, X_val, y_val = convert_and_split(X_512_8, y_512_8)\n",
    "print(\"Data split successfully\")\n",
    "\n",
    "# Train and evaluate the model\n",
    "results_512_8 = train_and_evaluate_model(model_512, X_train, y_train, X_test, y_test, X_val, y_val)"
   ]
  },
  {
   "cell_type": "code",
   "execution_count": 13,
   "id": "593097cb-0416-4434-ba08-d04ef2582870",
   "metadata": {},
   "outputs": [
    {
     "name": "stdout",
     "output_type": "stream",
     "text": [
      "Data split successfully\n",
      "Epoch 1/8\n",
      "\u001b[1m2562/2562\u001b[0m \u001b[32m━━━━━━━━━━━━━━━━━━━━\u001b[0m\u001b[37m\u001b[0m \u001b[1m297s\u001b[0m 115ms/step - accuracy: 0.8014 - loss: 0.4033 - precision: 0.7518 - recall: 0.8226 - val_accuracy: 0.8367 - val_loss: 0.3507 - val_precision: 0.7823 - val_recall: 0.8765\n",
      "Epoch 2/8\n",
      "\u001b[1m2562/2562\u001b[0m \u001b[32m━━━━━━━━━━━━━━━━━━━━\u001b[0m\u001b[37m\u001b[0m \u001b[1m287s\u001b[0m 112ms/step - accuracy: 0.8359 - loss: 0.3554 - precision: 0.7802 - recall: 0.8797 - val_accuracy: 0.8385 - val_loss: 0.3485 - val_precision: 0.7671 - val_recall: 0.9144\n",
      "Epoch 3/8\n",
      "\u001b[1m2562/2562\u001b[0m \u001b[32m━━━━━━━━━━━━━━━━━━━━\u001b[0m\u001b[37m\u001b[0m \u001b[1m287s\u001b[0m 112ms/step - accuracy: 0.8393 - loss: 0.3500 - precision: 0.7844 - recall: 0.8821 - val_accuracy: 0.8433 - val_loss: 0.3460 - val_precision: 0.7860 - val_recall: 0.8896\n",
      "Epoch 4/8\n",
      "\u001b[1m2562/2562\u001b[0m \u001b[32m━━━━━━━━━━━━━━━━━━━━\u001b[0m\u001b[37m\u001b[0m \u001b[1m288s\u001b[0m 112ms/step - accuracy: 0.8401 - loss: 0.3490 - precision: 0.7898 - recall: 0.8740 - val_accuracy: 0.8452 - val_loss: 0.3433 - val_precision: 0.7920 - val_recall: 0.8838\n",
      "Epoch 5/8\n",
      "\u001b[1m2562/2562\u001b[0m \u001b[32m━━━━━━━━━━━━━━━━━━━━\u001b[0m\u001b[37m\u001b[0m \u001b[1m288s\u001b[0m 112ms/step - accuracy: 0.8418 - loss: 0.3468 - precision: 0.7920 - recall: 0.8753 - val_accuracy: 0.8443 - val_loss: 0.3463 - val_precision: 0.7940 - val_recall: 0.8773\n",
      "Epoch 6/8\n",
      "\u001b[1m2562/2562\u001b[0m \u001b[32m━━━━━━━━━━━━━━━━━━━━\u001b[0m\u001b[37m\u001b[0m \u001b[1m287s\u001b[0m 112ms/step - accuracy: 0.8427 - loss: 0.3455 - precision: 0.7922 - recall: 0.8773 - val_accuracy: 0.8452 - val_loss: 0.3419 - val_precision: 0.7971 - val_recall: 0.8742\n",
      "Epoch 7/8\n",
      "\u001b[1m2562/2562\u001b[0m \u001b[32m━━━━━━━━━━━━━━━━━━━━\u001b[0m\u001b[37m\u001b[0m \u001b[1m287s\u001b[0m 112ms/step - accuracy: 0.8436 - loss: 0.3453 - precision: 0.7931 - recall: 0.8790 - val_accuracy: 0.8462 - val_loss: 0.3420 - val_precision: 0.7956 - val_recall: 0.8800\n",
      "Epoch 8/8\n",
      "\u001b[1m2562/2562\u001b[0m \u001b[32m━━━━━━━━━━━━━━━━━━━━\u001b[0m\u001b[37m\u001b[0m \u001b[1m289s\u001b[0m 113ms/step - accuracy: 0.8434 - loss: 0.3449 - precision: 0.7929 - recall: 0.8792 - val_accuracy: 0.8456 - val_loss: 0.3416 - val_precision: 0.7946 - val_recall: 0.8800\n",
      "\u001b[1m1318/1318\u001b[0m \u001b[32m━━━━━━━━━━━━━━━━━━━━\u001b[0m\u001b[37m\u001b[0m \u001b[1m12s\u001b[0m 9ms/step - accuracy: 0.8458 - loss: 0.3377 - precision: 0.7957 - recall: 0.8808\n",
      "Accuracy: 0.8479\n",
      "Precision: 0.7973\n",
      "Recall: 0.8823\n",
      "Loss: 0.3376\n"
     ]
    }
   ],
   "source": [
    "# l=1024 k=8 dataset evaluation\n",
    "X_1024 = f1024['feature_encodings']\n",
    "y_1024 = f1024['label']\n",
    "\n",
    "# Split the dataset\n",
    "X_train, y_train, X_test, y_test, X_val, y_val = convert_and_split(X_1024, y_1024)\n",
    "print(\"Data split successfully\")\n",
    "\n",
    "# Train and evaluate the model\n",
    "results_1024 = train_and_evaluate_model(model_1024, X_train, y_train, X_test, y_test, X_val, y_val)"
   ]
  }
 ],
 "metadata": {
  "kernelspec": {
   "display_name": "Python 3 (ipykernel)",
   "language": "python",
   "name": "python3"
  },
  "language_info": {
   "codemirror_mode": {
    "name": "ipython",
    "version": 3
   },
   "file_extension": ".py",
   "mimetype": "text/x-python",
   "name": "python",
   "nbconvert_exporter": "python",
   "pygments_lexer": "ipython3",
   "version": "3.11.7"
  }
 },
 "nbformat": 4,
 "nbformat_minor": 5
}
