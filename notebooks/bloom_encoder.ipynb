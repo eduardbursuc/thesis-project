{
 "cells": [
  {
   "cell_type": "code",
   "execution_count": 2,
   "id": "5680cf28-5dc7-4e38-a99d-5f32b6f867dd",
   "metadata": {},
   "outputs": [],
   "source": [
    "# Libraries\n",
    "import pandas as pd\n",
    "import numpy as np\n",
    "import math\n",
    "import time\n",
    "import hmac\n",
    "import hashlib\n",
    "import matplotlib.pyplot as plt\n",
    "from nltk import ngrams\n",
    "from bitarray import bitarray"
   ]
  },
  {
   "cell_type": "markdown",
   "id": "e401fb59-024f-41db-acfe-0ce920c77d51",
   "metadata": {},
   "source": [
    "First, we will convert the raw URLs into Bloom encodings. "
   ]
  },
  {
   "cell_type": "code",
   "execution_count": 2,
   "id": "bccf0a47-3e8a-4014-93a2-4c5c0968a534",
   "metadata": {},
   "outputs": [
    {
     "data": {
      "text/html": [
       "<div>\n",
       "<style scoped>\n",
       "    .dataframe tbody tr th:only-of-type {\n",
       "        vertical-align: middle;\n",
       "    }\n",
       "\n",
       "    .dataframe tbody tr th {\n",
       "        vertical-align: top;\n",
       "    }\n",
       "\n",
       "    .dataframe thead th {\n",
       "        text-align: right;\n",
       "    }\n",
       "</style>\n",
       "<table border=\"1\" class=\"dataframe\">\n",
       "  <thead>\n",
       "    <tr style=\"text-align: right;\">\n",
       "      <th></th>\n",
       "      <th>url</th>\n",
       "      <th>label</th>\n",
       "    </tr>\n",
       "  </thead>\n",
       "  <tbody>\n",
       "    <tr>\n",
       "      <th>0</th>\n",
       "      <td>https://oregonstateparks.org/index.cfm?do=geti...</td>\n",
       "      <td>0</td>\n",
       "    </tr>\n",
       "    <tr>\n",
       "      <th>1</th>\n",
       "      <td>http://business.hsbc.com.camaract.mobi/system_...</td>\n",
       "      <td>1</td>\n",
       "    </tr>\n",
       "    <tr>\n",
       "      <th>2</th>\n",
       "      <td>http://facebook.com-source-page.com/help/conta...</td>\n",
       "      <td>1</td>\n",
       "    </tr>\n",
       "    <tr>\n",
       "      <th>3</th>\n",
       "      <td>http://michaelnielsen.org/blog/lecture-course-...</td>\n",
       "      <td>0</td>\n",
       "    </tr>\n",
       "    <tr>\n",
       "      <th>4</th>\n",
       "      <td>http://messagerie-17fr.com/fr/91da56ae94f5f4ff...</td>\n",
       "      <td>1</td>\n",
       "    </tr>\n",
       "    <tr>\n",
       "      <th>...</th>\n",
       "      <td>...</td>\n",
       "      <td>...</td>\n",
       "    </tr>\n",
       "    <tr>\n",
       "      <th>468335</th>\n",
       "      <td>http://www.53.com.wps0177m.zarit.tk/confirm/cb...</td>\n",
       "      <td>1</td>\n",
       "    </tr>\n",
       "    <tr>\n",
       "      <th>468336</th>\n",
       "      <td>https://www.somethingsimilar.com/2013/12/09/a-...</td>\n",
       "      <td>0</td>\n",
       "    </tr>\n",
       "    <tr>\n",
       "      <th>468337</th>\n",
       "      <td>http://tinyurl.com/l8v5dxu</td>\n",
       "      <td>1</td>\n",
       "    </tr>\n",
       "    <tr>\n",
       "      <th>468338</th>\n",
       "      <td>http://162.144.71.74/serv/e402b4beddb6aba50327...</td>\n",
       "      <td>1</td>\n",
       "    </tr>\n",
       "    <tr>\n",
       "      <th>468339</th>\n",
       "      <td>http://www.bartekbitner.pl/libraries/fof/-/din7</td>\n",
       "      <td>1</td>\n",
       "    </tr>\n",
       "  </tbody>\n",
       "</table>\n",
       "<p>468340 rows × 2 columns</p>\n",
       "</div>"
      ],
      "text/plain": [
       "                                                      url  label\n",
       "0       https://oregonstateparks.org/index.cfm?do=geti...      0\n",
       "1       http://business.hsbc.com.camaract.mobi/system_...      1\n",
       "2       http://facebook.com-source-page.com/help/conta...      1\n",
       "3       http://michaelnielsen.org/blog/lecture-course-...      0\n",
       "4       http://messagerie-17fr.com/fr/91da56ae94f5f4ff...      1\n",
       "...                                                   ...    ...\n",
       "468335  http://www.53.com.wps0177m.zarit.tk/confirm/cb...      1\n",
       "468336  https://www.somethingsimilar.com/2013/12/09/a-...      0\n",
       "468337                         http://tinyurl.com/l8v5dxu      1\n",
       "468338  http://162.144.71.74/serv/e402b4beddb6aba50327...      1\n",
       "468339    http://www.bartekbitner.pl/libraries/fof/-/din7      1\n",
       "\n",
       "[468340 rows x 2 columns]"
      ]
     },
     "execution_count": 2,
     "metadata": {},
     "output_type": "execute_result"
    }
   ],
   "source": [
    "data = pd.read_csv('baseline_dataset.csv')\n",
    "data.drop(data.columns[0], axis=1, inplace=True)\n",
    "data"
   ]
  },
  {
   "cell_type": "markdown",
   "id": "41724d69-ad5d-4b56-9fef-63b6fb1e51a7",
   "metadata": {},
   "source": [
    "Now we define two functions. The first will take the input and remove all special characters, the second will split the input into n-grams"
   ]
  },
  {
   "cell_type": "code",
   "execution_count": 3,
   "id": "ebf32d9e-1d35-4efd-8017-e34d356c191b",
   "metadata": {},
   "outputs": [
    {
     "name": "stdout",
     "output_type": "stream",
     "text": [
      "                                                      url  label  \\\n",
      "0       https://oregonstateparks.org/index.cfm?do=geti...      0   \n",
      "1       http://business.hsbc.com.camaract.mobi/system_...      1   \n",
      "2       http://facebook.com-source-page.com/help/conta...      1   \n",
      "3       http://michaelnielsen.org/blog/lecture-course-...      0   \n",
      "4       http://messagerie-17fr.com/fr/91da56ae94f5f4ff...      1   \n",
      "...                                                   ...    ...   \n",
      "468335  http://www.53.com.wps0177m.zarit.tk/confirm/cb...      1   \n",
      "468336  https://www.somethingsimilar.com/2013/12/09/a-...      0   \n",
      "468337                         http://tinyurl.com/l8v5dxu      1   \n",
      "468338  http://162.144.71.74/serv/e402b4beddb6aba50327...      1   \n",
      "468339    http://www.bartekbitner.pl/libraries/fof/-/din7      1   \n",
      "\n",
      "                                                   ngrams  \n",
      "0       [ht, tt, tp, ps, s:, :/, //, /o, or, re, eg, g...  \n",
      "1       [ht, tt, tp, p:, :/, //, /b, bu, us, si, in, n...  \n",
      "2       [ht, tt, tp, p:, :/, //, /f, fa, ac, ce, eb, b...  \n",
      "3       [ht, tt, tp, p:, :/, //, /m, mi, ic, ch, ha, a...  \n",
      "4       [ht, tt, tp, p:, :/, //, /m, me, es, ss, sa, a...  \n",
      "...                                                   ...  \n",
      "468335  [ht, tt, tp, p:, :/, //, /w, ww, ww, w., .5, 5...  \n",
      "468336  [ht, tt, tp, ps, s:, :/, //, /w, ww, ww, w., ....  \n",
      "468337  [ht, tt, tp, p:, :/, //, /t, ti, in, ny, yu, u...  \n",
      "468338  [ht, tt, tp, p:, :/, //, /1, 16, 62, 2., .1, 1...  \n",
      "468339  [ht, tt, tp, p:, :/, //, /w, ww, ww, w., .b, b...  \n",
      "\n",
      "[468340 rows x 3 columns]\n",
      "Elapsed time: 7.10 seconds\n"
     ]
    }
   ],
   "source": [
    "# No longer needed, this function removes special characters and splits input into q-grams. \n",
    "# However, this leads to information loss, therefore it makes more sense to keep them in.\n",
    "\n",
    "# def split_into_tokenized_ngrams(url, n):\n",
    "    # This function splits the input into tokens by delimiters defined by RFC3986 Standard\n",
    "    # Removes all special characters and converts input into array of tokens\n",
    "    # tokens = [i for i in re.split(r\"[:/?#\\[\\]@!$&\\'()*+,;=.\\-_~]\", url) if i]\n",
    "    # Concats the tokens into a single string using blank space\n",
    "    # concated = ''.join(tokens)\n",
    "    # Call N-gram function to split the tokenized string into n-grams\n",
    "    # return split_into_ngrams(concated, n)\n",
    "\n",
    "start = time.time()\n",
    "\n",
    "def split_into_ngrams(url, n):\n",
    "    # This function takes the input and splits it into n-grams\n",
    "    # This will ouput a list of tuples\n",
    "    tuples = list(ngrams(url, n)) \n",
    "    # This converts the list of tuples into a list of strings\n",
    "    concated = [''.join(tuple) for tuple in tuples]\n",
    "    return concated\n",
    "\n",
    "# Apply two functions to dataframe, creating two new columns, one where URL was split into tokens first and one where it wasn't\n",
    "# Again, since the other approach with removed special characters is no longer used, we only do it for the first function\n",
    "\n",
    "data['ngrams'] = data['url'].apply(lambda url: split_into_ngrams(url, n=2))\n",
    "# data['token_ngrams'] = data['url'].apply(lambda url: split_into_tokenized_ngrams(url, n=2))\n",
    "\n",
    "end = time.time()\n",
    "\n",
    "print(data)\n",
    "print(f\"Elapsed time: {end - start:.2f} seconds\")"
   ]
  },
  {
   "cell_type": "markdown",
   "id": "355645c0-3378-4ad4-a11c-f871519b411d",
   "metadata": {},
   "source": [
    "The two functions above are used to generate two sets of N-grams, one where we also accept special characters and one where we only consider the text.\n",
    "The next step is to create a Bloom filter and hash the N-grams into the Bloom filter."
   ]
  },
  {
   "cell_type": "code",
   "execution_count": 14,
   "id": "9fe09f6c-b549-4338-9ca4-47e013b24356",
   "metadata": {},
   "outputs": [
    {
     "data": {
      "text/plain": [
       "'0100010110001010'"
      ]
     },
     "execution_count": 14,
     "metadata": {},
     "output_type": "execute_result"
    }
   ],
   "source": [
    "def bloom_encode(input, l, k):\n",
    "    # This function encodes the input into a Bloom filter of size m using k hash funtions\n",
    "    # input (list): A list of n-grams to encode\n",
    "    # l (int): The desired size of the Bloom filter\n",
    "    # k (int): The desired number of hash functions to use\n",
    "    # Returns encoded bit array\n",
    "\n",
    "    # Initialize bitarray of size l and set all bits to 0\n",
    "    bf = bitarray(l)\n",
    "    bf.setall(0)\n",
    "\n",
    "    # Iterate over each n-gram and hash it\n",
    "    for ngram in input:\n",
    "        for i in range(k):\n",
    "            # Create a base key from the input and add one byte for each hash function\n",
    "            # Example: input ('aa') generates key xdb\\x95, then h_1 of 'aa' is xdb\\x95\\x00, h_2 of 'aa' is xdb\\x95\\x01, h_3 of 'aa' is xdb\\x95\\x02 etc.\n",
    "            # Reminder: this is not cryptographically secure in any way\n",
    "            key = hashlib.sha256(ngram.encode()).digest() + bytes([i])\n",
    "            # Create new HMAC object with random key and ngram\n",
    "            hash = hmac.new(key, ngram.encode(), digestmod='sha256')\n",
    "            # Get hash value as integer, modulo l is used to keep the value between 0 and l-1\n",
    "            hash_value = int(hash.hexdigest(), 16) % l\n",
    "            # Set corresponding bits to 1\n",
    "            bf[hash_value] = 1\n",
    "\n",
    "    # Return bf as a binary string\n",
    "    return bf.to01()\n",
    "\n",
    "# Example input\n",
    "input = ['aa', 'bb']\n",
    "output = bloom_encode(input, 16, 4)\n",
    "\n",
    "output"
   ]
  },
  {
   "cell_type": "markdown",
   "id": "d522513b-018b-450b-b6ab-c884c71b6570",
   "metadata": {},
   "source": [
    "Now we apply the function to the dataframe"
   ]
  },
  {
   "cell_type": "code",
   "execution_count": 10,
   "id": "3a18961d-e6bd-4031-a882-3a91d34e8810",
   "metadata": {},
   "outputs": [
    {
     "name": "stdout",
     "output_type": "stream",
     "text": [
      "        label                                          encodings\n",
      "0           0  0100111101000110010010100001001001111001010000...\n",
      "1           1  0110111110001110101011011001111111111011111110...\n",
      "2           1  0110010100000100010010101001001111010110001010...\n",
      "3           0  0101110000011111001010000010001000011000000000...\n",
      "4           1  0111001101110111110011111101101011111100001001...\n",
      "...       ...                                                ...\n",
      "468335      1  0000100111000100000001000101011010011101011101...\n",
      "468336      0  0100110100000110001000001101001000110101010111...\n",
      "468337      1  0000100100000100000000000000001000111000000011...\n",
      "468338      1  0000100000001111000010101101011001111010101001...\n",
      "468339      1  0000100001000100100011010100001001111000000011...\n",
      "\n",
      "[468340 rows x 2 columns]\n",
      "Elapsed time: 3194.56 seconds\n"
     ]
    }
   ],
   "source": [
    "# This is used to create encoded datasets. \n",
    "\n",
    "start = time.time()\n",
    "\n",
    "# Change parameter values here (l, k)\n",
    "data['encodings'] = data['ngrams'].apply(lambda x: bloom_encode(x, l=512, k=4))\n",
    "data.drop(columns=['url', 'ngrams'], inplace=True)\n",
    "# Name dataset (I used l_k_q_dataset.csv)\n",
    "data.to_csv('512_4_2_dataset.csv', index=False)\n",
    "\n",
    "end = time.time()\n",
    "\n",
    "print(data)\n",
    "print(f\"Elapsed time: {end - start:.2f} seconds\")"
   ]
  },
  {
   "cell_type": "code",
   "execution_count": 11,
   "id": "04b8d765-bea7-424f-a011-1d9ddcdc6a57",
   "metadata": {},
   "outputs": [
    {
     "name": "stdout",
     "output_type": "stream",
     "text": [
      "Average: 204\n",
      "Min: 4\n",
      "Max: 425\n"
     ]
    },
    {
     "data": {
      "image/png": "[encoded data removed]",
      "text/plain": [
       "<Figure size 640x480 with 1 Axes>"
      ]
     },
     "metadata": {},
     "output_type": "display_data"
    }
   ],
   "source": [
    "# Statistics\n",
    "# This is tied in with the cell above, it prints the distribution of ones of the most recently encoded dataset\n",
    "encodings = data['encodings'].tolist()\n",
    "num_ones = [encoding.count('1') for encoding in encodings]\n",
    "\n",
    "print(f\"Average: {np.mean(num_ones):.0f}\")\n",
    "print(f\"Min: {min(num_ones)}\")\n",
    "print(f\"Max: {max(num_ones)}\")\n",
    "\n",
    "plt.hist(num_ones, bins=range(max(num_ones)))\n",
    "plt.xlabel('Number of ones')\n",
    "plt.ylabel('Frequency')\n",
    "\n",
    "plt.savefig(\"ones_raw_encoding.png\", format=\"png\", dpi=300, bbox_inches=\"tight\")\n",
    "\n",
    "plt.show()"
   ]
  },
  {
   "cell_type": "markdown",
   "id": "2e9fd37f-c67d-4d36-b994-3dc57a9053c1",
   "metadata": {},
   "source": [
    "Now we will encode the feature dataset"
   ]
  },
  {
   "cell_type": "code",
   "execution_count": 24,
   "id": "4fff2d23-c37d-4994-be7d-d23d6ed80b3c",
   "metadata": {},
   "outputs": [
    {
     "data": {
      "text/html": [
       "<div>\n",
       "<style scoped>\n",
       "    .dataframe tbody tr th:only-of-type {\n",
       "        vertical-align: middle;\n",
       "    }\n",
       "\n",
       "    .dataframe tbody tr th {\n",
       "        vertical-align: top;\n",
       "    }\n",
       "\n",
       "    .dataframe thead th {\n",
       "        text-align: right;\n",
       "    }\n",
       "</style>\n",
       "<table border=\"1\" class=\"dataframe\">\n",
       "  <thead>\n",
       "    <tr style=\"text-align: right;\">\n",
       "      <th></th>\n",
       "      <th>label</th>\n",
       "      <th>features</th>\n",
       "    </tr>\n",
       "  </thead>\n",
       "  <tbody>\n",
       "    <tr>\n",
       "      <th>0</th>\n",
       "      <td>0</td>\n",
       "      <td>['ur80', 'ho20', 'pa10', 'to1', 'sl4', 'eq2', ...</td>\n",
       "    </tr>\n",
       "    <tr>\n",
       "      <th>1</th>\n",
       "      <td>1</td>\n",
       "      <td>['ur90', 'ho25', 'pa30', 'ht1', 'sl4', 'do4', ...</td>\n",
       "    </tr>\n",
       "    <tr>\n",
       "      <th>2</th>\n",
       "      <td>1</td>\n",
       "      <td>['ur60', 'ho25', 'pa30', 'ht1', 'to1', 'sl6', ...</td>\n",
       "    </tr>\n",
       "    <tr>\n",
       "      <th>3</th>\n",
       "      <td>0</td>\n",
       "      <td>['ur80', 'ho20', 'pa50', 'ht1', 'to1', 'sl4', ...</td>\n",
       "    </tr>\n",
       "    <tr>\n",
       "      <th>4</th>\n",
       "      <td>1</td>\n",
       "      <td>['ur90', 'ho20', 'pa40', 'ht1', 'to1', 'sl4', ...</td>\n",
       "    </tr>\n",
       "    <tr>\n",
       "      <th>...</th>\n",
       "      <td>...</td>\n",
       "      <td>...</td>\n",
       "    </tr>\n",
       "    <tr>\n",
       "      <th>468335</th>\n",
       "      <td>1</td>\n",
       "      <td>['ur60', 'ho25', 'pa20', 'ht1', 'sl4', 'do4', ...</td>\n",
       "    </tr>\n",
       "    <tr>\n",
       "      <th>468336</th>\n",
       "      <td>0</td>\n",
       "      <td>['ur80', 'ho25', 'pa40', 'to1', 'sl6', 'da4', ...</td>\n",
       "    </tr>\n",
       "    <tr>\n",
       "      <th>468337</th>\n",
       "      <td>1</td>\n",
       "      <td>['ur20', 'ho10', 'pa10', 'ht1', 'to1', 'ss1', ...</td>\n",
       "    </tr>\n",
       "    <tr>\n",
       "      <th>468338</th>\n",
       "      <td>1</td>\n",
       "      <td>['ur90', 'ho15', 'pa50', 'ip1', 'ht1', 'sl4', ...</td>\n",
       "    </tr>\n",
       "    <tr>\n",
       "      <th>468339</th>\n",
       "      <td>1</td>\n",
       "      <td>['ur40', 'ho20', 'pa20', 'ht1', 'sl6', 'do2', ...</td>\n",
       "    </tr>\n",
       "  </tbody>\n",
       "</table>\n",
       "<p>468340 rows × 2 columns</p>\n",
       "</div>"
      ],
      "text/plain": [
       "        label                                           features\n",
       "0           0  ['ur80', 'ho20', 'pa10', 'to1', 'sl4', 'eq2', ...\n",
       "1           1  ['ur90', 'ho25', 'pa30', 'ht1', 'sl4', 'do4', ...\n",
       "2           1  ['ur60', 'ho25', 'pa30', 'ht1', 'to1', 'sl6', ...\n",
       "3           0  ['ur80', 'ho20', 'pa50', 'ht1', 'to1', 'sl4', ...\n",
       "4           1  ['ur90', 'ho20', 'pa40', 'ht1', 'to1', 'sl4', ...\n",
       "...       ...                                                ...\n",
       "468335      1  ['ur60', 'ho25', 'pa20', 'ht1', 'sl4', 'do4', ...\n",
       "468336      0  ['ur80', 'ho25', 'pa40', 'to1', 'sl6', 'da4', ...\n",
       "468337      1  ['ur20', 'ho10', 'pa10', 'ht1', 'to1', 'ss1', ...\n",
       "468338      1  ['ur90', 'ho15', 'pa50', 'ip1', 'ht1', 'sl4', ...\n",
       "468339      1  ['ur40', 'ho20', 'pa20', 'ht1', 'sl6', 'do2', ...\n",
       "\n",
       "[468340 rows x 2 columns]"
      ]
     },
     "execution_count": 24,
     "metadata": {},
     "output_type": "execute_result"
    }
   ],
   "source": [
    "feature = pd.read_csv('full_zero_feature_dataset.csv')\n",
    "feature"
   ]
  },
  {
   "cell_type": "code",
   "execution_count": 25,
   "id": "d8145200-330d-4ab6-88b2-b913211e40d1",
   "metadata": {},
   "outputs": [
    {
     "name": "stdout",
     "output_type": "stream",
     "text": [
      "        label                                  feature_encodings\n",
      "0           0  0010010001000001100001010110010011000100000100...\n",
      "1           1  0000010101000001100100010110011011000100000110...\n",
      "2           1  0000010101000001100000010110011011000100000110...\n",
      "3           0  0010010001000001100000010110010011000100000100...\n",
      "4           1  0000010001010001100101010110010011000100000100...\n",
      "...       ...                                                ...\n",
      "468335      1  0000010101000001100000010110011011000100000100...\n",
      "468336      0  0010010001000001100000010110010011000100000100...\n",
      "468337      1  0000010001000001100000010110010011000100000100...\n",
      "468338      1  0000010001000001100101010110010011000100000100...\n",
      "468339      1  0000010001000001100000010110010011000100000100...\n",
      "\n",
      "[468340 rows x 2 columns]\n",
      "Elapsed time: 659.65 seconds\n"
     ]
    }
   ],
   "source": [
    "start = time.time()\n",
    "\n",
    "# Change parameter values here\n",
    "feature['feature_encodings'] = feature['features'].apply(lambda x: bloom_encode(x, l=256, k=4))\n",
    "feature.drop(columns=['features'], inplace=True)\n",
    "# Name dataset here\n",
    "feature.to_csv('ffz_l256_k4_dataset.csv', index=False)\n",
    "\n",
    "end = time.time()\n",
    "\n",
    "print(feature)\n",
    "print(f\"Elapsed time: {end - start:.2f} seconds\")"
   ]
  },
  {
   "cell_type": "code",
   "execution_count": null,
   "id": "8e39bc4f-873f-48ca-b04f-58cdeec0ac97",
   "metadata": {},
   "outputs": [],
   "source": [
    "# Cell to create plots for one distribution\n",
    "\n",
    "distribution_df = pd.read_csv('ff_l256_k4_dataset.csv')\n",
    "encodings = distribution_df['feature_encodings'].tolist()\n",
    "num_ones = [encoding.count('1') for encoding in encodings]\n",
    "\n",
    "print(f\"Average: {np.mean(num_ones):.0f}\")\n",
    "print(f\"Min: {min(num_ones)}\")\n",
    "print(f\"Max: {max(num_ones)}\")\n",
    "\n",
    "plt.hist(num_ones, bins=range(max(num_ones)))\n",
    "plt.xlabel('Number of ones')\n",
    "plt.ylabel('Frequency')\n",
    "\n",
    "# plt.savefig(\"ones_raw_encoding.png\", format=\"png\", dpi=300, bbox_inches=\"tight\")\n",
    "\n",
    "plt.show()"
   ]
  },
  {
   "cell_type": "raw",
   "id": "dc7b3839-fd91-4f3f-8532-9b0bb662cb7a",
   "metadata": {},
   "source": [
    "ffz - 659 seconds\n",
    "ff - 2700 seconds\n",
    "rf - 700 seconds"
   ]
  }
 ],
 "metadata": {
  "kernelspec": {
   "display_name": "Python 3 (ipykernel)",
   "language": "python",
   "name": "python3"
  },
  "language_info": {
   "codemirror_mode": {
    "name": "ipython",
    "version": 3
   },
   "file_extension": ".py",
   "mimetype": "text/x-python",
   "name": "python",
   "nbconvert_exporter": "python",
   "pygments_lexer": "ipython3",
   "version": "3.11.7"
  }
 },
 "nbformat": 4,
 "nbformat_minor": 5
}
