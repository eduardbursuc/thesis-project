{
 "cells": [
  {
   "cell_type": "code",
   "execution_count": 1,
   "id": "470a44ee-db77-460c-9a2e-8b2256132d61",
   "metadata": {},
   "outputs": [],
   "source": [
    "import pandas as pd\n",
    "import numpy as np\n",
    "import matplotlib.pyplot as plt\n",
    "from sklearn.model_selection import train_test_split\n",
    "from tensorflow.keras.models import Sequential\n",
    "from tensorflow.keras.layers import Conv1D, MaxPooling1D, Flatten, Dense, Input, Dropout\n",
    "from tensorflow.keras.preprocessing.sequence import pad_sequences"
   ]
  },
  {
   "cell_type": "code",
   "execution_count": 2,
   "id": "27cfeb89-13b1-44fa-a757-2d38cf379222",
   "metadata": {},
   "outputs": [
    {
     "name": "stdout",
     "output_type": "stream",
     "text": [
      "Data loaded successfully.\n"
     ]
    }
   ],
   "source": [
    "# Load datasets\n",
    "L128 = pd.read_csv('128_4_2_dataset.csv')\n",
    "L256 = pd.read_csv('256_4_2_dataset.csv')\n",
    "L512 = pd.read_csv('512_4_2_dataset.csv')\n",
    "L1024 = pd.read_csv('1024_4_2_dataset.csv')\n",
    "K2 = pd.read_csv('512_2_2_dataset.csv')\n",
    "K8 = pd.read_csv('512_8_2_dataset.csv')\n",
    "Q3 = pd.read_csv('512_4_3_dataset.csv')\n",
    "Q4 = pd.read_csv('512_4_4_dataset.csv')\n",
    "L128_K1 = pd.read_csv('128_1_2_dataset.csv')\n",
    "L256_K2 = pd.read_csv('256_2_2_dataset.csv')\n",
    "L1024_K8 = pd.read_csv('1024_8_2_dataset.csv')\n",
    "print(\"Data loaded successfully.\")"
   ]
  },
  {
   "cell_type": "code",
   "execution_count": 3,
   "id": "4e3d8a13-b29d-494c-ae86-e3bd7e8f3b37",
   "metadata": {},
   "outputs": [
    {
     "name": "stdout",
     "output_type": "stream",
     "text": [
      "Models created successfully.\n"
     ]
    }
   ],
   "source": [
    "# This function is used to create a CNN Model with variable input shape.\n",
    "# Different input shapes are needed depending on Bloom filter size l\n",
    "def create_model(input_shape):\n",
    "    model = Sequential()\n",
    "\n",
    "    # Input layer\n",
    "    model.add(Input(shape=input_shape))\n",
    "\n",
    "    # Convolutional layers\n",
    "    model.add(Conv1D(128, 3, activation='relu'))\n",
    "    model.add(MaxPooling1D())\n",
    "    model.add(Conv1D(128, 3, activation='relu'))\n",
    "    model.add(MaxPooling1D())\n",
    "    model.add(Dropout(0.2))\n",
    "\n",
    "    # Fully connected layers\n",
    "    model.add(Flatten())\n",
    "    model.add(Dense(64, activation='relu'))\n",
    "    model.add(Dense(1, activation='sigmoid'))\n",
    "\n",
    "    # Compile model\n",
    "    model.compile(loss='binary_crossentropy', optimizer='adam', metrics=['accuracy', 'precision', 'recall'])\n",
    "\n",
    "    return model\n",
    "\n",
    "# Pre-create models for each dataset size\n",
    "model_128 = create_model(input_shape=(128, 1))\n",
    "model_256 = create_model(input_shape=(256, 1))\n",
    "model_512 = create_model(input_shape=(512, 1))\n",
    "model_1024 = create_model(input_shape=(1024, 1))\n",
    "model_2048 = create_model(input_shape=(2048, 1))\n",
    "print(\"Models created successfully.\")"
   ]
  },
  {
   "cell_type": "code",
   "execution_count": 4,
   "id": "c63a755a-283b-455c-97b4-b5c904d027db",
   "metadata": {},
   "outputs": [],
   "source": [
    "# These two functions are used to remove redundancies (No need to explicitly split, train, and evaluate for each dataset)\n",
    "\n",
    "# Function to convert binary strings to integers and split dataset into training, validation, testing.\n",
    "def convert_and_split (data, labels, test_size=0.3, val_size=1/3, random_state=42):\n",
    "    # Map binary strings to integers\n",
    "    X = np.array([list(map(int, x)) for x in data])\n",
    "    y = labels\n",
    "\n",
    "    # Split dataset\n",
    "    X_train, X_temp, y_train, y_temp = train_test_split(X, y, test_size=test_size, random_state=random_state)\n",
    "    X_val, X_test, y_val, y_test = train_test_split(X_temp, y_temp, test_size=test_size, random_state=random_state)\n",
    "\n",
    "    return X_train, y_train, X_test, y_test, X_val, y_val\n",
    "\n",
    "# Function to train and evaluate model. \n",
    "def train_and_evaluate_model(model, X_train, y_train, X_test, y_test, X_val, y_val, epochs=8, batch_size=128):\n",
    "\n",
    "    # Train\n",
    "    history = model.fit(\n",
    "        X_train, \n",
    "        y_train, \n",
    "        epochs=epochs, \n",
    "        batch_size=batch_size, \n",
    "        validation_data=(X_val, y_val)\n",
    "    )\n",
    "\n",
    "    # Evaluate\n",
    "    loss, accuracy, precision, recall = model.evaluate(X_test, y_test)\n",
    "\n",
    "    # Print results\n",
    "    print(f\"Accuracy: {round(accuracy, 4)}\")\n",
    "    print(f\"Precision: {round(precision, 4)}\")\n",
    "    print(f\"Recall: {round(recall, 4)}\")\n",
    "    print(f\"Loss: {round(loss, 4)}\")\n",
    "\n",
    "    # Return history for graph plotting\n",
    "    return history.history"
   ]
  },
  {
   "cell_type": "code",
   "execution_count": 5,
   "id": "de30e0ec-418c-4485-9dd0-93ed50b04e1a",
   "metadata": {},
   "outputs": [
    {
     "name": "stdout",
     "output_type": "stream",
     "text": [
      "Data split successfully\n",
      "Epoch 1/8\n",
      "\u001b[1m2562/2562\u001b[0m \u001b[32m━━━━━━━━━━━━━━━━━━━━\u001b[0m\u001b[37m\u001b[0m \u001b[1m35s\u001b[0m 13ms/step - accuracy: 0.7833 - loss: 0.4486 - precision: 0.7520 - recall: 0.7614 - val_accuracy: 0.8253 - val_loss: 0.3824 - val_precision: 0.7936 - val_recall: 0.8202\n",
      "Epoch 2/8\n",
      "\u001b[1m2562/2562\u001b[0m \u001b[32m━━━━━━━━━━━━━━━━━━━━\u001b[0m\u001b[37m\u001b[0m \u001b[1m32s\u001b[0m 13ms/step - accuracy: 0.8247 - loss: 0.3815 - precision: 0.7880 - recall: 0.8300 - val_accuracy: 0.8337 - val_loss: 0.3637 - val_precision: 0.8005 - val_recall: 0.8335\n",
      "Epoch 3/8\n",
      "\u001b[1m2562/2562\u001b[0m \u001b[32m━━━━━━━━━━━━━━━━━━━━\u001b[0m\u001b[37m\u001b[0m \u001b[1m32s\u001b[0m 13ms/step - accuracy: 0.8344 - loss: 0.3634 - precision: 0.8022 - recall: 0.8339 - val_accuracy: 0.8383 - val_loss: 0.3560 - val_precision: 0.8148 - val_recall: 0.8233\n",
      "Epoch 4/8\n",
      "\u001b[1m2562/2562\u001b[0m \u001b[32m━━━━━━━━━━━━━━━━━━━━\u001b[0m\u001b[37m\u001b[0m \u001b[1m33s\u001b[0m 13ms/step - accuracy: 0.8418 - loss: 0.3503 - precision: 0.8113 - recall: 0.8413 - val_accuracy: 0.8421 - val_loss: 0.3481 - val_precision: 0.8198 - val_recall: 0.8262\n",
      "Epoch 5/8\n",
      "\u001b[1m2562/2562\u001b[0m \u001b[32m━━━━━━━━━━━━━━━━━━━━\u001b[0m\u001b[37m\u001b[0m \u001b[1m32s\u001b[0m 13ms/step - accuracy: 0.8458 - loss: 0.3411 - precision: 0.8168 - recall: 0.8434 - val_accuracy: 0.8421 - val_loss: 0.3461 - val_precision: 0.8025 - val_recall: 0.8552\n",
      "Epoch 6/8\n",
      "\u001b[1m2562/2562\u001b[0m \u001b[32m━━━━━━━━━━━━━━━━━━━━\u001b[0m\u001b[37m\u001b[0m \u001b[1m33s\u001b[0m 13ms/step - accuracy: 0.8485 - loss: 0.3372 - precision: 0.8189 - recall: 0.8470 - val_accuracy: 0.8427 - val_loss: 0.3463 - val_precision: 0.8033 - val_recall: 0.8557\n",
      "Epoch 7/8\n",
      "\u001b[1m2562/2562\u001b[0m \u001b[32m━━━━━━━━━━━━━━━━━━━━\u001b[0m\u001b[37m\u001b[0m \u001b[1m33s\u001b[0m 13ms/step - accuracy: 0.8522 - loss: 0.3287 - precision: 0.8232 - recall: 0.8512 - val_accuracy: 0.8449 - val_loss: 0.3439 - val_precision: 0.8185 - val_recall: 0.8364\n",
      "Epoch 8/8\n",
      "\u001b[1m2562/2562\u001b[0m \u001b[32m━━━━━━━━━━━━━━━━━━━━\u001b[0m\u001b[37m\u001b[0m \u001b[1m33s\u001b[0m 13ms/step - accuracy: 0.8529 - loss: 0.3264 - precision: 0.8261 - recall: 0.8495 - val_accuracy: 0.8444 - val_loss: 0.3441 - val_precision: 0.8031 - val_recall: 0.8611\n",
      "\u001b[1m1318/1318\u001b[0m \u001b[32m━━━━━━━━━━━━━━━━━━━━\u001b[0m\u001b[37m\u001b[0m \u001b[1m2s\u001b[0m 2ms/step - accuracy: 0.8378 - loss: 0.3466 - precision: 0.7999 - recall: 0.8494\n",
      "Accuracy: 0.8418\n",
      "Precision: 0.8014\n",
      "Recall: 0.8565\n",
      "Loss: 0.3445\n"
     ]
    }
   ],
   "source": [
    "# Note: some experiments were re-run after the final evaluation, so not all results are the exact same as on the thesis paper. \n",
    "# However, they are very similar, with small changes due to randomness\n",
    "\n",
    "# l=128, k=4, q=2 dataset evaluation\n",
    "X_128 = L128['encodings']\n",
    "y_128 = L128['label']\n",
    "\n",
    "# Split the dataset\n",
    "X_train, y_train, X_test, y_test, X_val, y_val = convert_and_split(X_128, y_128)\n",
    "print(\"Data split successfully\")\n",
    "\n",
    "# Train and evaluate the model\n",
    "results_128 = train_and_evaluate_model(model_128, X_train, y_train, X_test, y_test, X_val, y_val)"
   ]
  },
  {
   "cell_type": "code",
   "execution_count": 17,
   "id": "d373c229-bf91-4b02-b7a0-3943ec7d6ba8",
   "metadata": {},
   "outputs": [
    {
     "name": "stdout",
     "output_type": "stream",
     "text": [
      "Data split successfully\n",
      "Epoch 1/8\n",
      "\u001b[1m2562/2562\u001b[0m \u001b[32m━━━━━━━━━━━━━━━━━━━━\u001b[0m\u001b[37m\u001b[0m \u001b[1m66s\u001b[0m 25ms/step - accuracy: 0.8423 - loss: 0.3369 - precision: 0.8256 - recall: 0.8115 - val_accuracy: 0.8856 - val_loss: 0.2606 - val_precision: 0.8349 - val_recall: 0.9257\n",
      "Epoch 2/8\n",
      "\u001b[1m2562/2562\u001b[0m \u001b[32m━━━━━━━━━━━━━━━━━━━━\u001b[0m\u001b[37m\u001b[0m \u001b[1m64s\u001b[0m 25ms/step - accuracy: 0.8885 - loss: 0.2586 - precision: 0.8598 - recall: 0.8966 - val_accuracy: 0.8951 - val_loss: 0.2449 - val_precision: 0.8580 - val_recall: 0.9154\n",
      "Epoch 3/8\n",
      "\u001b[1m2562/2562\u001b[0m \u001b[32m━━━━━━━━━━━━━━━━━━━━\u001b[0m\u001b[37m\u001b[0m \u001b[1m64s\u001b[0m 25ms/step - accuracy: 0.8942 - loss: 0.2461 - precision: 0.8670 - recall: 0.9014 - val_accuracy: 0.8994 - val_loss: 0.2354 - val_precision: 0.8616 - val_recall: 0.9217\n",
      "Epoch 4/8\n",
      "\u001b[1m2562/2562\u001b[0m \u001b[32m━━━━━━━━━━━━━━━━━━━━\u001b[0m\u001b[37m\u001b[0m \u001b[1m65s\u001b[0m 25ms/step - accuracy: 0.8979 - loss: 0.2362 - precision: 0.8715 - recall: 0.9042 - val_accuracy: 0.9013 - val_loss: 0.2300 - val_precision: 0.8889 - val_recall: 0.8890\n",
      "Epoch 5/8\n",
      "\u001b[1m2562/2562\u001b[0m \u001b[32m━━━━━━━━━━━━━━━━━━━━\u001b[0m\u001b[37m\u001b[0m \u001b[1m65s\u001b[0m 25ms/step - accuracy: 0.9023 - loss: 0.2275 - precision: 0.8778 - recall: 0.9069 - val_accuracy: 0.9027 - val_loss: 0.2249 - val_precision: 0.8685 - val_recall: 0.9203\n",
      "Epoch 6/8\n",
      "\u001b[1m2562/2562\u001b[0m \u001b[32m━━━━━━━━━━━━━━━━━━━━\u001b[0m\u001b[37m\u001b[0m \u001b[1m65s\u001b[0m 25ms/step - accuracy: 0.9057 - loss: 0.2193 - precision: 0.8820 - recall: 0.9098 - val_accuracy: 0.9053 - val_loss: 0.2205 - val_precision: 0.8766 - val_recall: 0.9158\n",
      "Epoch 7/8\n",
      "\u001b[1m2562/2562\u001b[0m \u001b[32m━━━━━━━━━━━━━━━━━━━━\u001b[0m\u001b[37m\u001b[0m \u001b[1m65s\u001b[0m 25ms/step - accuracy: 0.9086 - loss: 0.2127 - precision: 0.8858 - recall: 0.9120 - val_accuracy: 0.9064 - val_loss: 0.2194 - val_precision: 0.8790 - val_recall: 0.9155\n",
      "Epoch 8/8\n",
      "\u001b[1m2562/2562\u001b[0m \u001b[32m━━━━━━━━━━━━━━━━━━━━\u001b[0m\u001b[37m\u001b[0m \u001b[1m65s\u001b[0m 25ms/step - accuracy: 0.9102 - loss: 0.2111 - precision: 0.8890 - recall: 0.9124 - val_accuracy: 0.9074 - val_loss: 0.2192 - val_precision: 0.8720 - val_recall: 0.9278\n",
      "\u001b[1m1318/1318\u001b[0m \u001b[32m━━━━━━━━━━━━━━━━━━━━\u001b[0m\u001b[37m\u001b[0m \u001b[1m3s\u001b[0m 2ms/step - accuracy: 0.9064 - loss: 0.2206 - precision: 0.8712 - recall: 0.9276\n",
      "Accuracy: 0.907\n",
      "Precision: 0.8706\n",
      "Recall: 0.9289\n",
      "Loss: 0.2204\n"
     ]
    }
   ],
   "source": [
    "# l=256, k=4, q=2 dataset evaluation\n",
    "X_256 = L256['encodings']\n",
    "y_256 = L256['label']\n",
    "\n",
    "# Split the dataset\n",
    "X_train, y_train, X_test, y_test, X_val, y_val = convert_and_split(X_256, y_256)\n",
    "print(\"Data split successfully\")\n",
    "\n",
    "# Train and evaluate the model\n",
    "results_256 = train_and_evaluate_model(model_256, X_train, y_train, X_test, y_test, X_val, y_val)"
   ]
  },
  {
   "cell_type": "code",
   "execution_count": 18,
   "id": "90fd4929-1551-40cf-af09-6908d2881aef",
   "metadata": {},
   "outputs": [
    {
     "name": "stdout",
     "output_type": "stream",
     "text": [
      "Data split successfully\n",
      "Epoch 1/8\n",
      "\u001b[1m2562/2562\u001b[0m \u001b[32m━━━━━━━━━━━━━━━━━━━━\u001b[0m\u001b[37m\u001b[0m \u001b[1m142s\u001b[0m 55ms/step - accuracy: 0.8842 - loss: 0.2572 - precision: 0.8662 - recall: 0.8739 - val_accuracy: 0.9262 - val_loss: 0.1760 - val_precision: 0.9135 - val_recall: 0.9211\n",
      "Epoch 2/8\n",
      "\u001b[1m2562/2562\u001b[0m \u001b[32m━━━━━━━━━━━━━━━━━━━━\u001b[0m\u001b[37m\u001b[0m \u001b[1m139s\u001b[0m 54ms/step - accuracy: 0.9255 - loss: 0.1775 - precision: 0.9105 - recall: 0.9243 - val_accuracy: 0.9350 - val_loss: 0.1574 - val_precision: 0.9343 - val_recall: 0.9184\n",
      "Epoch 3/8\n",
      "\u001b[1m2562/2562\u001b[0m \u001b[32m━━━━━━━━━━━━━━━━━━━━\u001b[0m\u001b[37m\u001b[0m \u001b[1m138s\u001b[0m 54ms/step - accuracy: 0.9364 - loss: 0.1508 - precision: 0.9258 - recall: 0.9315 - val_accuracy: 0.9371 - val_loss: 0.1516 - val_precision: 0.9369 - val_recall: 0.9204\n",
      "Epoch 4/8\n",
      "\u001b[1m2562/2562\u001b[0m \u001b[32m━━━━━━━━━━━━━━━━━━━━\u001b[0m\u001b[37m\u001b[0m \u001b[1m137s\u001b[0m 54ms/step - accuracy: 0.9439 - loss: 0.1344 - precision: 0.9348 - recall: 0.9398 - val_accuracy: 0.9388 - val_loss: 0.1490 - val_precision: 0.9350 - val_recall: 0.9268\n",
      "Epoch 5/8\n",
      "\u001b[1m2562/2562\u001b[0m \u001b[32m━━━━━━━━━━━━━━━━━━━━\u001b[0m\u001b[37m\u001b[0m \u001b[1m137s\u001b[0m 54ms/step - accuracy: 0.9492 - loss: 0.1218 - precision: 0.9402 - recall: 0.9467 - val_accuracy: 0.9418 - val_loss: 0.1426 - val_precision: 0.9305 - val_recall: 0.9393\n",
      "Epoch 6/8\n",
      "\u001b[1m2562/2562\u001b[0m \u001b[32m━━━━━━━━━━━━━━━━━━━━\u001b[0m\u001b[37m\u001b[0m \u001b[1m139s\u001b[0m 54ms/step - accuracy: 0.9532 - loss: 0.1117 - precision: 0.9459 - recall: 0.9494 - val_accuracy: 0.9416 - val_loss: 0.1463 - val_precision: 0.9272 - val_recall: 0.9425\n",
      "Epoch 7/8\n",
      "\u001b[1m2562/2562\u001b[0m \u001b[32m━━━━━━━━━━━━━━━━━━━━\u001b[0m\u001b[37m\u001b[0m \u001b[1m143s\u001b[0m 56ms/step - accuracy: 0.9559 - loss: 0.1060 - precision: 0.9485 - recall: 0.9525 - val_accuracy: 0.9430 - val_loss: 0.1444 - val_precision: 0.9360 - val_recall: 0.9357\n",
      "Epoch 8/8\n",
      "\u001b[1m2562/2562\u001b[0m \u001b[32m━━━━━━━━━━━━━━━━━━━━\u001b[0m\u001b[37m\u001b[0m \u001b[1m143s\u001b[0m 56ms/step - accuracy: 0.9590 - loss: 0.0977 - precision: 0.9526 - recall: 0.9558 - val_accuracy: 0.9419 - val_loss: 0.1486 - val_precision: 0.9286 - val_recall: 0.9417\n",
      "\u001b[1m1318/1318\u001b[0m \u001b[32m━━━━━━━━━━━━━━━━━━━━\u001b[0m\u001b[37m\u001b[0m \u001b[1m6s\u001b[0m 5ms/step - accuracy: 0.9396 - loss: 0.1548 - precision: 0.9253 - recall: 0.9408\n",
      "Accuracy: 0.9393\n",
      "Precision: 0.9261\n",
      "Recall: 0.9384\n",
      "Loss: 0.1531\n"
     ]
    }
   ],
   "source": [
    "# l=512, k=4, q=2 dataset evaluation\n",
    "X_512 = L512['encodings']\n",
    "y_512 = L512['label']\n",
    "\n",
    "# Split the dataset\n",
    "X_train, y_train, X_test, y_test, X_val, y_val = convert_and_split(X_512, y_512)\n",
    "print(\"Data split successfully\")\n",
    "\n",
    "# Train and evaluate the model\n",
    "results_512 = train_and_evaluate_model(model_512, X_train, y_train, X_test, y_test, X_val, y_val)"
   ]
  },
  {
   "cell_type": "code",
   "execution_count": 19,
   "id": "e48df80e-306c-4aba-8af6-9cb57936dbda",
   "metadata": {},
   "outputs": [
    {
     "name": "stdout",
     "output_type": "stream",
     "text": [
      "Data split successfully\n",
      "Epoch 1/8\n",
      "\u001b[1m2562/2562\u001b[0m \u001b[32m━━━━━━━━━━━━━━━━━━━━\u001b[0m\u001b[37m\u001b[0m \u001b[1m284s\u001b[0m 110ms/step - accuracy: 0.8993 - loss: 0.2222 - precision: 0.8877 - recall: 0.8842 - val_accuracy: 0.9363 - val_loss: 0.1553 - val_precision: 0.9347 - val_recall: 0.9211\n",
      "Epoch 2/8\n",
      "\u001b[1m2562/2562\u001b[0m \u001b[32m━━━━━━━━━━━━━━━━━━━━\u001b[0m\u001b[37m\u001b[0m \u001b[1m280s\u001b[0m 109ms/step - accuracy: 0.9360 - loss: 0.1538 - precision: 0.9226 - recall: 0.9348 - val_accuracy: 0.9411 - val_loss: 0.1424 - val_precision: 0.9353 - val_recall: 0.9320\n",
      "Epoch 3/8\n",
      "\u001b[1m2562/2562\u001b[0m \u001b[32m━━━━━━━━━━━━━━━━━━━━\u001b[0m\u001b[37m\u001b[0m \u001b[1m280s\u001b[0m 109ms/step - accuracy: 0.9419 - loss: 0.1395 - precision: 0.9300 - recall: 0.9406 - val_accuracy: 0.9425 - val_loss: 0.1387 - val_precision: 0.9140 - val_recall: 0.9610\n",
      "Epoch 4/8\n",
      "\u001b[1m2562/2562\u001b[0m \u001b[32m━━━━━━━━━━━━━━━━━━━━\u001b[0m\u001b[37m\u001b[0m \u001b[1m279s\u001b[0m 109ms/step - accuracy: 0.9490 - loss: 0.1246 - precision: 0.9389 - recall: 0.9471 - val_accuracy: 0.9475 - val_loss: 0.1290 - val_precision: 0.9390 - val_recall: 0.9431\n",
      "Epoch 5/8\n",
      "\u001b[1m2562/2562\u001b[0m \u001b[32m━━━━━━━━━━━━━━━━━━━━\u001b[0m\u001b[37m\u001b[0m \u001b[1m279s\u001b[0m 109ms/step - accuracy: 0.9530 - loss: 0.1140 - precision: 0.9442 - recall: 0.9502 - val_accuracy: 0.9483 - val_loss: 0.1269 - val_precision: 0.9378 - val_recall: 0.9465\n",
      "Epoch 6/8\n",
      "\u001b[1m2562/2562\u001b[0m \u001b[32m━━━━━━━━━━━━━━━━━━━━\u001b[0m\u001b[37m\u001b[0m \u001b[1m283s\u001b[0m 110ms/step - accuracy: 0.9575 - loss: 0.1035 - precision: 0.9499 - recall: 0.9553 - val_accuracy: 0.9495 - val_loss: 0.1247 - val_precision: 0.9345 - val_recall: 0.9530\n",
      "Epoch 7/8\n",
      "\u001b[1m2562/2562\u001b[0m \u001b[32m━━━━━━━━━━━━━━━━━━━━\u001b[0m\u001b[37m\u001b[0m \u001b[1m283s\u001b[0m 110ms/step - accuracy: 0.9613 - loss: 0.0930 - precision: 0.9547 - recall: 0.9588 - val_accuracy: 0.9509 - val_loss: 0.1247 - val_precision: 0.9427 - val_recall: 0.9471\n",
      "Epoch 8/8\n",
      "\u001b[1m2562/2562\u001b[0m \u001b[32m━━━━━━━━━━━━━━━━━━━━\u001b[0m\u001b[37m\u001b[0m \u001b[1m284s\u001b[0m 111ms/step - accuracy: 0.9646 - loss: 0.0863 - precision: 0.9594 - recall: 0.9610 - val_accuracy: 0.9503 - val_loss: 0.1276 - val_precision: 0.9503 - val_recall: 0.9371\n",
      "\u001b[1m1318/1318\u001b[0m \u001b[32m━━━━━━━━━━━━━━━━━━━━\u001b[0m\u001b[37m\u001b[0m \u001b[1m11s\u001b[0m 9ms/step - accuracy: 0.9502 - loss: 0.1321 - precision: 0.9518 - recall: 0.9359\n",
      "Accuracy: 0.9504\n",
      "Precision: 0.9513\n",
      "Recall: 0.9364\n",
      "Loss: 0.1295\n"
     ]
    }
   ],
   "source": [
    "# l=1024, k=4, q=2 dataset evaluation\n",
    "X_1024 = L1024['encodings']\n",
    "y_1024 = L1024['label']\n",
    "\n",
    "# Split the dataset\n",
    "X_train, y_train, X_test, y_test, X_val, y_val = convert_and_split(X_1024, y_1024)\n",
    "print(\"Data split successfully\")\n",
    "\n",
    "# Train and evaluate the model\n",
    "results_1024 = train_and_evaluate_model(model_1024, X_train, y_train, X_test, y_test, X_val, y_val)"
   ]
  },
  {
   "cell_type": "code",
   "execution_count": 20,
   "id": "299ccb84-3195-4e11-a79a-535189bb4b4a",
   "metadata": {},
   "outputs": [
    {
     "name": "stdout",
     "output_type": "stream",
     "text": [
      "Data split successfully\n",
      "Epoch 1/8\n",
      "\u001b[1m2562/2562\u001b[0m \u001b[32m━━━━━━━━━━━━━━━━━━━━\u001b[0m\u001b[37m\u001b[0m \u001b[1m144s\u001b[0m 56ms/step - accuracy: 0.9207 - loss: 0.1887 - precision: 0.9048 - recall: 0.9191 - val_accuracy: 0.9395 - val_loss: 0.1483 - val_precision: 0.9327 - val_recall: 0.9310\n",
      "Epoch 2/8\n",
      "\u001b[1m2562/2562\u001b[0m \u001b[32m━━━━━━━━━━━━━━━━━━━━\u001b[0m\u001b[37m\u001b[0m \u001b[1m143s\u001b[0m 56ms/step - accuracy: 0.9438 - loss: 0.1336 - precision: 0.9341 - recall: 0.9403 - val_accuracy: 0.9419 - val_loss: 0.1394 - val_precision: 0.9243 - val_recall: 0.9467\n",
      "Epoch 3/8\n",
      "\u001b[1m2562/2562\u001b[0m \u001b[32m━━━━━━━━━━━━━━━━━━━━\u001b[0m\u001b[37m\u001b[0m \u001b[1m143s\u001b[0m 56ms/step - accuracy: 0.9510 - loss: 0.1180 - precision: 0.9424 - recall: 0.9480 - val_accuracy: 0.9436 - val_loss: 0.1399 - val_precision: 0.9284 - val_recall: 0.9462\n",
      "Epoch 4/8\n",
      "\u001b[1m2562/2562\u001b[0m \u001b[32m━━━━━━━━━━━━━━━━━━━━\u001b[0m\u001b[37m\u001b[0m \u001b[1m144s\u001b[0m 56ms/step - accuracy: 0.9557 - loss: 0.1069 - precision: 0.9492 - recall: 0.9518 - val_accuracy: 0.9435 - val_loss: 0.1391 - val_precision: 0.9360 - val_recall: 0.9369\n",
      "Epoch 5/8\n",
      "\u001b[1m2562/2562\u001b[0m \u001b[32m━━━━━━━━━━━━━━━━━━━━\u001b[0m\u001b[37m\u001b[0m \u001b[1m145s\u001b[0m 57ms/step - accuracy: 0.9591 - loss: 0.0988 - precision: 0.9534 - recall: 0.9547 - val_accuracy: 0.9440 - val_loss: 0.1402 - val_precision: 0.9272 - val_recall: 0.9485\n",
      "Epoch 6/8\n",
      "\u001b[1m2562/2562\u001b[0m \u001b[32m━━━━━━━━━━━━━━━━━━━━\u001b[0m\u001b[37m\u001b[0m \u001b[1m147s\u001b[0m 57ms/step - accuracy: 0.9624 - loss: 0.0914 - precision: 0.9567 - recall: 0.9587 - val_accuracy: 0.9449 - val_loss: 0.1423 - val_precision: 0.9351 - val_recall: 0.9414\n",
      "Epoch 7/8\n",
      "\u001b[1m2562/2562\u001b[0m \u001b[32m━━━━━━━━━━━━━━━━━━━━\u001b[0m\u001b[37m\u001b[0m \u001b[1m148s\u001b[0m 58ms/step - accuracy: 0.9648 - loss: 0.0851 - precision: 0.9597 - recall: 0.9615 - val_accuracy: 0.9456 - val_loss: 0.1415 - val_precision: 0.9402 - val_recall: 0.9371\n",
      "Epoch 8/8\n",
      "\u001b[1m2562/2562\u001b[0m \u001b[32m━━━━━━━━━━━━━━━━━━━━\u001b[0m\u001b[37m\u001b[0m \u001b[1m150s\u001b[0m 59ms/step - accuracy: 0.9676 - loss: 0.0781 - precision: 0.9634 - recall: 0.9641 - val_accuracy: 0.9454 - val_loss: 0.1465 - val_precision: 0.9326 - val_recall: 0.9454\n",
      "\u001b[1m1318/1318\u001b[0m \u001b[32m━━━━━━━━━━━━━━━━━━━━\u001b[0m\u001b[37m\u001b[0m \u001b[1m7s\u001b[0m 5ms/step - accuracy: 0.9432 - loss: 0.1472 - precision: 0.9345 - recall: 0.9386\n",
      "Accuracy: 0.9441\n",
      "Precision: 0.9329\n",
      "Recall: 0.9421\n",
      "Loss: 0.1481\n"
     ]
    }
   ],
   "source": [
    "# l=512, k=2, q=2 dataset evaluation\n",
    "X_K2 = K2['encodings']\n",
    "y_K2 = K2['label']\n",
    "\n",
    "# Split the dataset\n",
    "X_train, y_train, X_test, y_test, X_val, y_val = convert_and_split(X_K2, y_K2)\n",
    "print(\"Data split successfully\")\n",
    "\n",
    "# Train and evaluate the model\n",
    "results_K2 = train_and_evaluate_model(model_512, X_train, y_train, X_test, y_test, X_val, y_val)"
   ]
  },
  {
   "cell_type": "code",
   "execution_count": 21,
   "id": "be9df3ca-8196-4c6b-ba49-16926ce8b289",
   "metadata": {},
   "outputs": [
    {
     "name": "stdout",
     "output_type": "stream",
     "text": [
      "Data split successfully\n",
      "Epoch 1/8\n",
      "\u001b[1m2562/2562\u001b[0m \u001b[32m━━━━━━━━━━━━━━━━━━━━\u001b[0m\u001b[37m\u001b[0m \u001b[1m146s\u001b[0m 57ms/step - accuracy: 0.8722 - loss: 0.3039 - precision: 0.8459 - recall: 0.8724 - val_accuracy: 0.9174 - val_loss: 0.1934 - val_precision: 0.8949 - val_recall: 0.9226\n",
      "Epoch 2/8\n",
      "\u001b[1m2562/2562\u001b[0m \u001b[32m━━━━━━━━━━━━━━━━━━━━\u001b[0m\u001b[37m\u001b[0m \u001b[1m146s\u001b[0m 57ms/step - accuracy: 0.9218 - loss: 0.1851 - precision: 0.9065 - recall: 0.9188 - val_accuracy: 0.9269 - val_loss: 0.1742 - val_precision: 0.9029 - val_recall: 0.9362\n",
      "Epoch 3/8\n",
      "\u001b[1m2562/2562\u001b[0m \u001b[32m━━━━━━━━━━━━━━━━━━━━\u001b[0m\u001b[37m\u001b[0m \u001b[1m147s\u001b[0m 57ms/step - accuracy: 0.9324 - loss: 0.1616 - precision: 0.9191 - recall: 0.9305 - val_accuracy: 0.9299 - val_loss: 0.1672 - val_precision: 0.9093 - val_recall: 0.9356\n",
      "Epoch 4/8\n",
      "\u001b[1m2562/2562\u001b[0m \u001b[32m━━━━━━━━━━━━━━━━━━━━\u001b[0m\u001b[37m\u001b[0m \u001b[1m147s\u001b[0m 58ms/step - accuracy: 0.9395 - loss: 0.1451 - precision: 0.9288 - recall: 0.9361 - val_accuracy: 0.9315 - val_loss: 0.1640 - val_precision: 0.9136 - val_recall: 0.9343\n",
      "Epoch 5/8\n",
      "\u001b[1m2562/2562\u001b[0m \u001b[32m━━━━━━━━━━━━━━━━━━━━\u001b[0m\u001b[37m\u001b[0m \u001b[1m149s\u001b[0m 58ms/step - accuracy: 0.9452 - loss: 0.1324 - precision: 0.9358 - recall: 0.9416 - val_accuracy: 0.9326 - val_loss: 0.1637 - val_precision: 0.9170 - val_recall: 0.9329\n",
      "Epoch 6/8\n",
      "\u001b[1m2562/2562\u001b[0m \u001b[32m━━━━━━━━━━━━━━━━━━━━\u001b[0m\u001b[37m\u001b[0m \u001b[1m150s\u001b[0m 59ms/step - accuracy: 0.9486 - loss: 0.1221 - precision: 0.9398 - recall: 0.9456 - val_accuracy: 0.9333 - val_loss: 0.1637 - val_precision: 0.9198 - val_recall: 0.9311\n",
      "Epoch 7/8\n",
      "\u001b[1m2562/2562\u001b[0m \u001b[32m━━━━━━━━━━━━━━━━━━━━\u001b[0m\u001b[37m\u001b[0m \u001b[1m152s\u001b[0m 59ms/step - accuracy: 0.9521 - loss: 0.1151 - precision: 0.9436 - recall: 0.9492 - val_accuracy: 0.9336 - val_loss: 0.1667 - val_precision: 0.9188 - val_recall: 0.9332\n",
      "Epoch 8/8\n",
      "\u001b[1m2562/2562\u001b[0m \u001b[32m━━━━━━━━━━━━━━━━━━━━\u001b[0m\u001b[37m\u001b[0m \u001b[1m154s\u001b[0m 60ms/step - accuracy: 0.9554 - loss: 0.1065 - precision: 0.9475 - recall: 0.9527 - val_accuracy: 0.9331 - val_loss: 0.1681 - val_precision: 0.9173 - val_recall: 0.9337\n",
      "\u001b[1m1318/1318\u001b[0m \u001b[32m━━━━━━━━━━━━━━━━━━━━\u001b[0m\u001b[37m\u001b[0m \u001b[1m7s\u001b[0m 5ms/step - accuracy: 0.9339 - loss: 0.1659 - precision: 0.9182 - recall: 0.9355\n",
      "Accuracy: 0.9341\n",
      "Precision: 0.9185\n",
      "Recall: 0.9349\n",
      "Loss: 0.1669\n"
     ]
    }
   ],
   "source": [
    "# l=512, k=8, q=2 dataset evaluation\n",
    "X_K8 = K8['encodings']\n",
    "y_K8 = K8['label']\n",
    "\n",
    "# Split the dataset\n",
    "X_train, y_train, X_test, y_test, X_val, y_val = convert_and_split(X_K8, y_K8)\n",
    "print(\"Data split successfully\")\n",
    "\n",
    "# Train and evaluate the model\n",
    "results_K8 = train_and_evaluate_model(model_512, X_train, y_train, X_test, y_test, X_val, y_val)"
   ]
  },
  {
   "cell_type": "code",
   "execution_count": 22,
   "id": "581a6687-aea9-45ab-a907-43f624c6c476",
   "metadata": {},
   "outputs": [
    {
     "name": "stdout",
     "output_type": "stream",
     "text": [
      "Data split successfully\n",
      "Epoch 1/8\n",
      "\u001b[1m2562/2562\u001b[0m \u001b[32m━━━━━━━━━━━━━━━━━━━━\u001b[0m\u001b[37m\u001b[0m \u001b[1m149s\u001b[0m 58ms/step - accuracy: 0.8475 - loss: 0.3372 - precision: 0.8164 - recall: 0.8480 - val_accuracy: 0.8974 - val_loss: 0.2370 - val_precision: 0.8594 - val_recall: 0.9195\n",
      "Epoch 2/8\n",
      "\u001b[1m2562/2562\u001b[0m \u001b[32m━━━━━━━━━━━━━━━━━━━━\u001b[0m\u001b[37m\u001b[0m \u001b[1m149s\u001b[0m 58ms/step - accuracy: 0.8964 - loss: 0.2404 - precision: 0.8732 - recall: 0.8981 - val_accuracy: 0.9054 - val_loss: 0.2204 - val_precision: 0.8856 - val_recall: 0.9040\n",
      "Epoch 3/8\n",
      "\u001b[1m2562/2562\u001b[0m \u001b[32m━━━━━━━━━━━━━━━━━━━━\u001b[0m\u001b[37m\u001b[0m \u001b[1m146s\u001b[0m 57ms/step - accuracy: 0.9047 - loss: 0.2203 - precision: 0.8851 - recall: 0.9034 - val_accuracy: 0.9093 - val_loss: 0.2119 - val_precision: 0.8942 - val_recall: 0.9028\n",
      "Epoch 4/8\n",
      "\u001b[1m2562/2562\u001b[0m \u001b[32m━━━━━━━━━━━━━━━━━━━━\u001b[0m\u001b[37m\u001b[0m \u001b[1m146s\u001b[0m 57ms/step - accuracy: 0.9116 - loss: 0.2056 - precision: 0.8949 - recall: 0.9087 - val_accuracy: 0.9124 - val_loss: 0.2050 - val_precision: 0.9050 - val_recall: 0.8971\n",
      "Epoch 5/8\n",
      "\u001b[1m2562/2562\u001b[0m \u001b[32m━━━━━━━━━━━━━━━━━━━━\u001b[0m\u001b[37m\u001b[0m \u001b[1m146s\u001b[0m 57ms/step - accuracy: 0.9175 - loss: 0.1937 - precision: 0.9022 - recall: 0.9139 - val_accuracy: 0.9140 - val_loss: 0.2007 - val_precision: 0.8876 - val_recall: 0.9235\n",
      "Epoch 6/8\n",
      "\u001b[1m2562/2562\u001b[0m \u001b[32m━━━━━━━━━━━━━━━━━━━━\u001b[0m\u001b[37m\u001b[0m \u001b[1m146s\u001b[0m 57ms/step - accuracy: 0.9230 - loss: 0.1811 - precision: 0.9097 - recall: 0.9185 - val_accuracy: 0.9167 - val_loss: 0.1956 - val_precision: 0.9020 - val_recall: 0.9115\n",
      "Epoch 7/8\n",
      "\u001b[1m2562/2562\u001b[0m \u001b[32m━━━━━━━━━━━━━━━━━━━━\u001b[0m\u001b[37m\u001b[0m \u001b[1m150s\u001b[0m 58ms/step - accuracy: 0.9273 - loss: 0.1711 - precision: 0.9152 - recall: 0.9223 - val_accuracy: 0.9176 - val_loss: 0.1969 - val_precision: 0.9040 - val_recall: 0.9113\n",
      "Epoch 8/8\n",
      "\u001b[1m2562/2562\u001b[0m \u001b[32m━━━━━━━━━━━━━━━━━━━━\u001b[0m\u001b[37m\u001b[0m \u001b[1m153s\u001b[0m 60ms/step - accuracy: 0.9319 - loss: 0.1612 - precision: 0.9211 - recall: 0.9260 - val_accuracy: 0.9181 - val_loss: 0.1958 - val_precision: 0.8997 - val_recall: 0.9182\n",
      "\u001b[1m1318/1318\u001b[0m \u001b[32m━━━━━━━━━━━━━━━━━━━━\u001b[0m\u001b[37m\u001b[0m \u001b[1m7s\u001b[0m 5ms/step - accuracy: 0.9173 - loss: 0.1977 - precision: 0.9007 - recall: 0.9159\n",
      "Accuracy: 0.9183\n",
      "Precision: 0.8993\n",
      "Recall: 0.9192\n",
      "Loss: 0.1964\n"
     ]
    }
   ],
   "source": [
    "# l=512, k=4, q=3 dataset evaluation\n",
    "X_Q3 = Q3['encodings']\n",
    "y_Q3 = Q3['label']\n",
    "\n",
    "# Split the dataset\n",
    "X_train, y_train, X_test, y_test, X_val, y_val = convert_and_split(X_Q3, y_Q3)\n",
    "print(\"Data split successfully\")\n",
    "\n",
    "# Train and evaluate the model\n",
    "results_Q3 = train_and_evaluate_model(model_512, X_train, y_train, X_test, y_test, X_val, y_val)"
   ]
  },
  {
   "cell_type": "code",
   "execution_count": 23,
   "id": "4624cda9-d291-4933-ad8d-156938cdf48a",
   "metadata": {},
   "outputs": [
    {
     "name": "stdout",
     "output_type": "stream",
     "text": [
      "Data split successfully\n",
      "Epoch 1/8\n",
      "\u001b[1m2562/2562\u001b[0m \u001b[32m━━━━━━━━━━━━━━━━━━━━\u001b[0m\u001b[37m\u001b[0m \u001b[1m149s\u001b[0m 58ms/step - accuracy: 0.8169 - loss: 0.3834 - precision: 0.7865 - recall: 0.8050 - val_accuracy: 0.8831 - val_loss: 0.2656 - val_precision: 0.8548 - val_recall: 0.8878\n",
      "Epoch 2/8\n",
      "\u001b[1m2562/2562\u001b[0m \u001b[32m━━━━━━━━━━━━━━━━━━━━\u001b[0m\u001b[37m\u001b[0m \u001b[1m149s\u001b[0m 58ms/step - accuracy: 0.8810 - loss: 0.2694 - precision: 0.8567 - recall: 0.8806 - val_accuracy: 0.8879 - val_loss: 0.2553 - val_precision: 0.8664 - val_recall: 0.8840\n",
      "Epoch 3/8\n",
      "\u001b[1m2562/2562\u001b[0m \u001b[32m━━━━━━━━━━━━━━━━━━━━\u001b[0m\u001b[37m\u001b[0m \u001b[1m149s\u001b[0m 58ms/step - accuracy: 0.8882 - loss: 0.2544 - precision: 0.8660 - recall: 0.8871 - val_accuracy: 0.8925 - val_loss: 0.2456 - val_precision: 0.8779 - val_recall: 0.8808\n",
      "Epoch 4/8\n",
      "\u001b[1m2562/2562\u001b[0m \u001b[32m━━━━━━━━━━━━━━━━━━━━\u001b[0m\u001b[37m\u001b[0m \u001b[1m149s\u001b[0m 58ms/step - accuracy: 0.8953 - loss: 0.2394 - precision: 0.8754 - recall: 0.8913 - val_accuracy: 0.8928 - val_loss: 0.2442 - val_precision: 0.8556 - val_recall: 0.9129\n",
      "Epoch 5/8\n",
      "\u001b[1m2562/2562\u001b[0m \u001b[32m━━━━━━━━━━━━━━━━━━━━\u001b[0m\u001b[37m\u001b[0m \u001b[1m149s\u001b[0m 58ms/step - accuracy: 0.9007 - loss: 0.2264 - precision: 0.8829 - recall: 0.8969 - val_accuracy: 0.8956 - val_loss: 0.2393 - val_precision: 0.8972 - val_recall: 0.8642\n",
      "Epoch 6/8\n",
      "\u001b[1m2562/2562\u001b[0m \u001b[32m━━━━━━━━━━━━━━━━━━━━\u001b[0m\u001b[37m\u001b[0m \u001b[1m149s\u001b[0m 58ms/step - accuracy: 0.9054 - loss: 0.2160 - precision: 0.8891 - recall: 0.9002 - val_accuracy: 0.8987 - val_loss: 0.2342 - val_precision: 0.8926 - val_recall: 0.8777\n",
      "Epoch 7/8\n",
      "\u001b[1m2562/2562\u001b[0m \u001b[32m━━━━━━━━━━━━━━━━━━━━\u001b[0m\u001b[37m\u001b[0m \u001b[1m149s\u001b[0m 58ms/step - accuracy: 0.9107 - loss: 0.2057 - precision: 0.8959 - recall: 0.9047 - val_accuracy: 0.8995 - val_loss: 0.2320 - val_precision: 0.8924 - val_recall: 0.8800\n",
      "Epoch 8/8\n",
      "\u001b[1m2562/2562\u001b[0m \u001b[32m━━━━━━━━━━━━━━━━━━━━\u001b[0m\u001b[37m\u001b[0m \u001b[1m150s\u001b[0m 58ms/step - accuracy: 0.9146 - loss: 0.1974 - precision: 0.9001 - recall: 0.9095 - val_accuracy: 0.8992 - val_loss: 0.2340 - val_precision: 0.8859 - val_recall: 0.8875\n",
      "\u001b[1m1318/1318\u001b[0m \u001b[32m━━━━━━━━━━━━━━━━━━━━\u001b[0m\u001b[37m\u001b[0m \u001b[1m7s\u001b[0m 5ms/step - accuracy: 0.8982 - loss: 0.2356 - precision: 0.8861 - recall: 0.8859\n",
      "Accuracy: 0.9001\n",
      "Precision: 0.8873\n",
      "Recall: 0.8883\n",
      "Loss: 0.2326\n"
     ]
    }
   ],
   "source": [
    "# l=512, k=4, q=4 dataset evaluation\n",
    "X_Q4 = Q4['encodings']\n",
    "y_Q4 = Q4['label']\n",
    "\n",
    "# Split the dataset\n",
    "X_train, y_train, X_test, y_test, X_val, y_val = convert_and_split(X_Q4, y_Q4)\n",
    "print(\"Data split successfully\")\n",
    "\n",
    "# Train and evaluate the model\n",
    "results_Q4 = train_and_evaluate_model(model_512, X_train, y_train, X_test, y_test, X_val, y_val)"
   ]
  },
  {
   "cell_type": "code",
   "execution_count": 26,
   "id": "9fbba454-329b-49d5-838e-c56ea83cd17e",
   "metadata": {},
   "outputs": [
    {
     "name": "stdout",
     "output_type": "stream",
     "text": [
      "Data split successfully\n",
      "Epoch 1/8\n",
      "\u001b[1m2562/2562\u001b[0m \u001b[32m━━━━━━━━━━━━━━━━━━━━\u001b[0m\u001b[37m\u001b[0m \u001b[1m44s\u001b[0m 17ms/step - accuracy: 0.8350 - loss: 0.3553 - precision: 0.8147 - recall: 0.8126 - val_accuracy: 0.8788 - val_loss: 0.2783 - val_precision: 0.8697 - val_recall: 0.8556\n",
      "Epoch 2/8\n",
      "\u001b[1m2562/2562\u001b[0m \u001b[32m━━━━━━━━━━━━━━━━━━━━\u001b[0m\u001b[37m\u001b[0m \u001b[1m43s\u001b[0m 17ms/step - accuracy: 0.8776 - loss: 0.2779 - precision: 0.8563 - recall: 0.8716 - val_accuracy: 0.8877 - val_loss: 0.2574 - val_precision: 0.8670 - val_recall: 0.8829\n",
      "Epoch 3/8\n",
      "\u001b[1m2562/2562\u001b[0m \u001b[32m━━━━━━━━━━━━━━━━━━━━\u001b[0m\u001b[37m\u001b[0m \u001b[1m43s\u001b[0m 17ms/step - accuracy: 0.8884 - loss: 0.2551 - precision: 0.8679 - recall: 0.8831 - val_accuracy: 0.8933 - val_loss: 0.2478 - val_precision: 0.8826 - val_recall: 0.8765\n",
      "Epoch 4/8\n",
      "\u001b[1m2562/2562\u001b[0m \u001b[32m━━━━━━━━━━━━━━━━━━━━\u001b[0m\u001b[37m\u001b[0m \u001b[1m42s\u001b[0m 17ms/step - accuracy: 0.8956 - loss: 0.2425 - precision: 0.8775 - recall: 0.8903 - val_accuracy: 0.8963 - val_loss: 0.2409 - val_precision: 0.8723 - val_recall: 0.8984\n",
      "Epoch 5/8\n",
      "\u001b[1m2562/2562\u001b[0m \u001b[32m━━━━━━━━━━━━━━━━━━━━\u001b[0m\u001b[37m\u001b[0m \u001b[1m42s\u001b[0m 17ms/step - accuracy: 0.9014 - loss: 0.2288 - precision: 0.8854 - recall: 0.8952 - val_accuracy: 0.8973 - val_loss: 0.2369 - val_precision: 0.8887 - val_recall: 0.8791\n",
      "Epoch 6/8\n",
      "\u001b[1m2562/2562\u001b[0m \u001b[32m━━━━━━━━━━━━━━━━━━━━\u001b[0m\u001b[37m\u001b[0m \u001b[1m43s\u001b[0m 17ms/step - accuracy: 0.9051 - loss: 0.2195 - precision: 0.8899 - recall: 0.8984 - val_accuracy: 0.8989 - val_loss: 0.2354 - val_precision: 0.8941 - val_recall: 0.8763\n",
      "Epoch 7/8\n",
      "\u001b[1m2562/2562\u001b[0m \u001b[32m━━━━━━━━━━━━━━━━━━━━\u001b[0m\u001b[37m\u001b[0m \u001b[1m43s\u001b[0m 17ms/step - accuracy: 0.9089 - loss: 0.2134 - precision: 0.8942 - recall: 0.9019 - val_accuracy: 0.9004 - val_loss: 0.2321 - val_precision: 0.8919 - val_recall: 0.8829\n",
      "Epoch 8/8\n",
      "\u001b[1m2562/2562\u001b[0m \u001b[32m━━━━━━━━━━━━━━━━━━━━\u001b[0m\u001b[37m\u001b[0m \u001b[1m43s\u001b[0m 17ms/step - accuracy: 0.9108 - loss: 0.2072 - precision: 0.8960 - recall: 0.9056 - val_accuracy: 0.9014 - val_loss: 0.2296 - val_precision: 0.8865 - val_recall: 0.8924\n",
      "\u001b[1m1318/1318\u001b[0m \u001b[32m━━━━━━━━━━━━━━━━━━━━\u001b[0m\u001b[37m\u001b[0m \u001b[1m4s\u001b[0m 3ms/step - accuracy: 0.9004 - loss: 0.2266 - precision: 0.8870 - recall: 0.8905\n",
      "Accuracy: 0.9018\n",
      "Precision: 0.8877\n",
      "Recall: 0.8921\n",
      "Loss: 0.2275\n"
     ]
    }
   ],
   "source": [
    "# l=128, k=1, q=2 dataset evaluation\n",
    "X_L128_K1 = L128_K1['encodings']\n",
    "y_L128_K1 = L128_K1['label']\n",
    "\n",
    "# Split the dataset\n",
    "X_train, y_train, X_test, y_test, X_val, y_val = convert_and_split(X_L128_K1, y_L128_K1)\n",
    "print(\"Data split successfully\")\n",
    "\n",
    "# Train and evaluate the model\n",
    "results_L128_K1 = train_and_evaluate_model(model_128, X_train, y_train, X_test, y_test, X_val, y_val)"
   ]
  },
  {
   "cell_type": "code",
   "execution_count": 28,
   "id": "5106e74b-c08e-41c1-a858-147934fe457f",
   "metadata": {},
   "outputs": [
    {
     "name": "stdout",
     "output_type": "stream",
     "text": [
      "Data split successfully\n",
      "Epoch 1/8\n",
      "\u001b[1m2562/2562\u001b[0m \u001b[32m━━━━━━━━━━━━━━━━━━━━\u001b[0m\u001b[37m\u001b[0m \u001b[1m86s\u001b[0m 34ms/step - accuracy: 0.8823 - loss: 0.2693 - precision: 0.8554 - recall: 0.8857 - val_accuracy: 0.9078 - val_loss: 0.2159 - val_precision: 0.8718 - val_recall: 0.9292\n",
      "Epoch 2/8\n",
      "\u001b[1m2562/2562\u001b[0m \u001b[32m━━━━━━━━━━━━━━━━━━━━\u001b[0m\u001b[37m\u001b[0m \u001b[1m87s\u001b[0m 34ms/step - accuracy: 0.9082 - loss: 0.2154 - precision: 0.8851 - recall: 0.9126 - val_accuracy: 0.9138 - val_loss: 0.2034 - val_precision: 0.9017 - val_recall: 0.9047\n",
      "Epoch 3/8\n",
      "\u001b[1m2562/2562\u001b[0m \u001b[32m━━━━━━━━━━━━━━━━━━━━\u001b[0m\u001b[37m\u001b[0m \u001b[1m85s\u001b[0m 33ms/step - accuracy: 0.9138 - loss: 0.2021 - precision: 0.8933 - recall: 0.9154 - val_accuracy: 0.9143 - val_loss: 0.2006 - val_precision: 0.8805 - val_recall: 0.9340\n",
      "Epoch 4/8\n",
      "\u001b[1m2562/2562\u001b[0m \u001b[32m━━━━━━━━━━━━━━━━━━━━\u001b[0m\u001b[37m\u001b[0m \u001b[1m86s\u001b[0m 33ms/step - accuracy: 0.9182 - loss: 0.1939 - precision: 0.8990 - recall: 0.9203 - val_accuracy: 0.9151 - val_loss: 0.1997 - val_precision: 0.8781 - val_recall: 0.9395\n",
      "Epoch 5/8\n",
      "\u001b[1m2562/2562\u001b[0m \u001b[32m━━━━━━━━━━━━━━━━━━━━\u001b[0m\u001b[37m\u001b[0m \u001b[1m85s\u001b[0m 33ms/step - accuracy: 0.9203 - loss: 0.1882 - precision: 0.9017 - recall: 0.9218 - val_accuracy: 0.9181 - val_loss: 0.1962 - val_precision: 0.8943 - val_recall: 0.9251\n",
      "Epoch 6/8\n",
      "\u001b[1m2562/2562\u001b[0m \u001b[32m━━━━━━━━━━━━━━━━━━━━\u001b[0m\u001b[37m\u001b[0m \u001b[1m86s\u001b[0m 33ms/step - accuracy: 0.9221 - loss: 0.1842 - precision: 0.9039 - recall: 0.9234 - val_accuracy: 0.9160 - val_loss: 0.1973 - val_precision: 0.8803 - val_recall: 0.9387\n",
      "Epoch 7/8\n",
      "\u001b[1m2562/2562\u001b[0m \u001b[32m━━━━━━━━━━━━━━━━━━━━\u001b[0m\u001b[37m\u001b[0m \u001b[1m86s\u001b[0m 33ms/step - accuracy: 0.9223 - loss: 0.1822 - precision: 0.9045 - recall: 0.9241 - val_accuracy: 0.9165 - val_loss: 0.1980 - val_precision: 0.8789 - val_recall: 0.9419\n",
      "Epoch 8/8\n",
      "\u001b[1m2562/2562\u001b[0m \u001b[32m━━━━━━━━━━━━━━━━━━━━\u001b[0m\u001b[37m\u001b[0m \u001b[1m86s\u001b[0m 33ms/step - accuracy: 0.9248 - loss: 0.1772 - precision: 0.9073 - recall: 0.9255 - val_accuracy: 0.9164 - val_loss: 0.1991 - val_precision: 0.8768 - val_recall: 0.9446\n",
      "\u001b[1m1318/1318\u001b[0m \u001b[32m━━━━━━━━━━━━━━━━━━━━\u001b[0m\u001b[37m\u001b[0m \u001b[1m6s\u001b[0m 4ms/step - accuracy: 0.9168 - loss: 0.1997 - precision: 0.8797 - recall: 0.9428\n",
      "Accuracy: 0.9172\n",
      "Precision: 0.8787\n",
      "Recall: 0.9442\n",
      "Loss: 0.1984\n"
     ]
    }
   ],
   "source": [
    "# l=256, k=2, q=2 dataset evaluation\n",
    "X_L256_K2 = L256_K2['encodings']\n",
    "y_L256_K2 = L256_K2['label']\n",
    "\n",
    "# Split the dataset\n",
    "X_train, y_train, X_test, y_test, X_val, y_val = convert_and_split(X_L256_K2, y_L256_K2)\n",
    "print(\"Data split successfully\")\n",
    "\n",
    "# Train and evaluate the model\n",
    "results_L128_K2 = train_and_evaluate_model(model_256, X_train, y_train, X_test, y_test, X_val, y_val)"
   ]
  },
  {
   "cell_type": "code",
   "execution_count": 29,
   "id": "4e661f68-b5c9-47ef-88b0-215e007b4a69",
   "metadata": {},
   "outputs": [
    {
     "name": "stdout",
     "output_type": "stream",
     "text": [
      "Data split successfully\n",
      "Epoch 1/8\n",
      "\u001b[1m2562/2562\u001b[0m \u001b[32m━━━━━━━━━━━━━━━━━━━━\u001b[0m\u001b[37m\u001b[0m \u001b[1m310s\u001b[0m 121ms/step - accuracy: 0.9239 - loss: 0.1829 - precision: 0.9087 - recall: 0.9220 - val_accuracy: 0.9441 - val_loss: 0.1351 - val_precision: 0.9287 - val_recall: 0.9470\n",
      "Epoch 2/8\n",
      "\u001b[1m2562/2562\u001b[0m \u001b[32m━━━━━━━━━━━━━━━━━━━━\u001b[0m\u001b[37m\u001b[0m \u001b[1m308s\u001b[0m 120ms/step - accuracy: 0.9509 - loss: 0.1204 - precision: 0.9432 - recall: 0.9470 - val_accuracy: 0.9479 - val_loss: 0.1279 - val_precision: 0.9431 - val_recall: 0.9395\n",
      "Epoch 3/8\n",
      "\u001b[1m2562/2562\u001b[0m \u001b[32m━━━━━━━━━━━━━━━━━━━━\u001b[0m\u001b[37m\u001b[0m \u001b[1m304s\u001b[0m 118ms/step - accuracy: 0.9596 - loss: 0.0997 - precision: 0.9533 - recall: 0.9561 - val_accuracy: 0.9486 - val_loss: 0.1267 - val_precision: 0.9414 - val_recall: 0.9429\n",
      "Epoch 4/8\n",
      "\u001b[1m2562/2562\u001b[0m \u001b[32m━━━━━━━━━━━━━━━━━━━━\u001b[0m\u001b[37m\u001b[0m \u001b[1m321s\u001b[0m 125ms/step - accuracy: 0.9654 - loss: 0.0857 - precision: 0.9602 - recall: 0.9622 - val_accuracy: 0.9493 - val_loss: 0.1301 - val_precision: 0.9452 - val_recall: 0.9406\n",
      "Epoch 5/8\n",
      "\u001b[1m2562/2562\u001b[0m \u001b[32m━━━━━━━━━━━━━━━━━━━━\u001b[0m\u001b[37m\u001b[0m \u001b[1m303s\u001b[0m 118ms/step - accuracy: 0.9696 - loss: 0.0749 - precision: 0.9652 - recall: 0.9667 - val_accuracy: 0.9479 - val_loss: 0.1359 - val_precision: 0.9296 - val_recall: 0.9550\n",
      "Epoch 6/8\n",
      "\u001b[1m2562/2562\u001b[0m \u001b[32m━━━━━━━━━━━━━━━━━━━━\u001b[0m\u001b[37m\u001b[0m \u001b[1m296s\u001b[0m 115ms/step - accuracy: 0.9733 - loss: 0.0665 - precision: 0.9697 - recall: 0.9705 - val_accuracy: 0.9489 - val_loss: 0.1403 - val_precision: 0.9449 - val_recall: 0.9398\n",
      "Epoch 7/8\n",
      "\u001b[1m2562/2562\u001b[0m \u001b[32m━━━━━━━━━━━━━━━━━━━━\u001b[0m\u001b[37m\u001b[0m \u001b[1m296s\u001b[0m 116ms/step - accuracy: 0.9759 - loss: 0.0601 - precision: 0.9723 - recall: 0.9735 - val_accuracy: 0.9451 - val_loss: 0.1551 - val_precision: 0.9179 - val_recall: 0.9625\n",
      "Epoch 8/8\n",
      "\u001b[1m2562/2562\u001b[0m \u001b[32m━━━━━━━━━━━━━━━━━━━━\u001b[0m\u001b[37m\u001b[0m \u001b[1m296s\u001b[0m 115ms/step - accuracy: 0.9786 - loss: 0.0534 - precision: 0.9749 - recall: 0.9771 - val_accuracy: 0.9474 - val_loss: 0.1530 - val_precision: 0.9306 - val_recall: 0.9527\n",
      "\u001b[1m1318/1318\u001b[0m \u001b[32m━━━━━━━━━━━━━━━━━━━━\u001b[0m\u001b[37m\u001b[0m \u001b[1m14s\u001b[0m 10ms/step - accuracy: 0.9488 - loss: 0.1478 - precision: 0.9328 - recall: 0.9541\n",
      "Accuracy: 0.9486\n",
      "Precision: 0.9313\n",
      "Recall: 0.9549\n",
      "Loss: 0.1478\n"
     ]
    }
   ],
   "source": [
    "# l=1024, k=8, q=2 dataset evaluation\n",
    "X_L1024_K8 = L1024_K8['encodings']\n",
    "y_L1024_K8 = L1024_K8['label']\n",
    "\n",
    "# Split the dataset\n",
    "X_train, y_train, X_test, y_test, X_val, y_val = convert_and_split(X_L1024_K8, y_L1024_K8)\n",
    "print(\"Data split successfully\")\n",
    "\n",
    "# Train and evaluate the model\n",
    "results_L1024_K8 = train_and_evaluate_model(model_1024, X_train, y_train, X_test, y_test, X_val, y_val)"
   ]
  }
 ],
 "metadata": {
  "kernelspec": {
   "display_name": "Python 3 (ipykernel)",
   "language": "python",
   "name": "python3"
  },
  "language_info": {
   "codemirror_mode": {
    "name": "ipython",
    "version": 3
   },
   "file_extension": ".py",
   "mimetype": "text/x-python",
   "name": "python",
   "nbconvert_exporter": "python",
   "pygments_lexer": "ipython3",
   "version": "3.11.7"
  }
 },
 "nbformat": 4,
 "nbformat_minor": 5
}
